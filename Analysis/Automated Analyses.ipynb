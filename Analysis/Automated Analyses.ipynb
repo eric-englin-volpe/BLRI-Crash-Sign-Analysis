{
 "cells": [
  {
   "cell_type": "markdown",
   "metadata": {},
   "source": [
    "# Blue Ridge Sign-Crash Analyses\n",
    "\n",
    "#### Author: Eric Englin\n",
    "#### Date: 9/17/2020\n",
    "\n",
    "The purpose of this script is to create many different sign analyses for a variety of sign and crash combinations. These are to be used in a final report to the NPS regional office and Blue Ridge Parkway park unit office. "
   ]
  },
  {
   "cell_type": "markdown",
   "metadata": {},
   "source": [
    "#### Import Packages"
   ]
  },
  {
   "cell_type": "code",
   "execution_count": 1,
   "metadata": {},
   "outputs": [],
   "source": [
    "import pandas as pd\n",
    "import math\n",
    "import matplotlib.pyplot as plt\n",
    "import matplotlib.ticker as ticker\n",
    "import numpy as np \n",
    "from sign_functions import *\n",
    "import warnings\n",
    "warnings.filterwarnings(\"ignore\")"
   ]
  },
  {
   "cell_type": "markdown",
   "metadata": {},
   "source": [
    "### Import & Clean Initial Datasets"
   ]
  },
  {
   "cell_type": "code",
   "execution_count": 2,
   "metadata": {},
   "outputs": [],
   "source": [
    "sign_df = pd.read_excel(\"signs_with_mileposts_and_text_and subtypes_09182020.xlsx\",\n",
    "                  sheet_name = \"multiple rows\")"
   ]
  },
  {
   "cell_type": "code",
   "execution_count": 3,
   "metadata": {
    "scrolled": false
   },
   "outputs": [
    {
     "data": {
      "text/plain": [
       "Recreational              1182\n",
       "Regulatory                1157\n",
       "General Information        993\n",
       "Flag for Removal           947\n",
       "Guide                      870\n",
       "Not a sign on the road     782\n",
       "Warning                    645\n",
       "Misc. Other                 95\n",
       "General Service Signs       21\n",
       "Name: Sign Type, dtype: int64"
      ]
     },
     "execution_count": 3,
     "metadata": {},
     "output_type": "execute_result"
    }
   ],
   "source": [
    "sign_df['Sign Type'].value_counts()"
   ]
  },
  {
   "cell_type": "code",
   "execution_count": 4,
   "metadata": {},
   "outputs": [
    {
     "data": {
      "text/plain": [
       "Back of sign            693\n",
       "Poor quality picture    254\n",
       "Name: Sign Subtype, dtype: int64"
      ]
     },
     "execution_count": 4,
     "metadata": {},
     "output_type": "execute_result"
    }
   ],
   "source": [
    "sign_df.loc[sign_df['Sign Type']=='Flag for Removal']['Sign Subtype'].value_counts()"
   ]
  },
  {
   "cell_type": "code",
   "execution_count": 5,
   "metadata": {},
   "outputs": [
    {
     "data": {
      "text/plain": [
       "693"
      ]
     },
     "execution_count": 5,
     "metadata": {},
     "output_type": "execute_result"
    }
   ],
   "source": [
    "633+56+4"
   ]
  },
  {
   "cell_type": "code",
   "execution_count": 6,
   "metadata": {},
   "outputs": [],
   "source": [
    "traffic_df = pd.read_csv(\"BLRI_Traffic_Counts.csv\")"
   ]
  },
  {
   "cell_type": "code",
   "execution_count": 7,
   "metadata": {},
   "outputs": [],
   "source": [
    "crash_df = pd.read_excel(\"Copy of NPS BLRI Incident Data 2017-2018 CLEAN.xlsx\",\n",
    "                        sheet_name = \"Incidents\")"
   ]
  },
  {
   "cell_type": "code",
   "execution_count": 8,
   "metadata": {},
   "outputs": [
    {
     "name": "stdout",
     "output_type": "stream",
     "text": [
      "1729  pictures signs flagged to remove\n",
      "764  duplicates\n",
      "51  more than a mile from the road\n",
      "4148  in clean dataset\n"
     ]
    }
   ],
   "source": [
    "sign_df = clean_sign_data(sign_df)"
   ]
  },
  {
   "cell_type": "code",
   "execution_count": 9,
   "metadata": {},
   "outputs": [],
   "source": [
    "sign_df.to_excel(\"signs_cleaned.xlsx\")"
   ]
  },
  {
   "cell_type": "code",
   "execution_count": 10,
   "metadata": {},
   "outputs": [],
   "source": [
    "crash_df = clean_crash_data(crash_df)"
   ]
  },
  {
   "cell_type": "code",
   "execution_count": 11,
   "metadata": {},
   "outputs": [
    {
     "data": {
      "text/plain": [
       "Index(['folder', 'Image File Name', 'kml', 'LON', 'LAT', 'Sign Type BLRI',\n",
       "       'Title', 'Subject', 'Description', 'Tags', 'Time Stamp', 'Date Stamp',\n",
       "       'Elevation', 'Photo Direction', 'Make', 'Model', 'Multiple Signs',\n",
       "       'Sign Owner', 'Physical Location', 'Parkway Location', 'District',\n",
       "       'Sign Condition', 'Maintenance Required', 'Sign Material', 'Sign Face',\n",
       "       'Post Material', 'Post Size', 'Number of posts', 'Sign Text BLRI',\n",
       "       'Milepost BLRI', 'Reviewed', 'Inventory Number', 'Sign Type Grouped',\n",
       "       'geometry', 'Mile Post (tenth of a mile)', 'distance (miles)',\n",
       "       'Mile Post #', 'Mile Post (ten miles)', 'raw text', 'clean text',\n",
       "       'New Folder Location', 'Sign Type', 'Sign Subtype', 'Specific Sign'],\n",
       "      dtype='object')"
      ]
     },
     "execution_count": 11,
     "metadata": {},
     "output_type": "execute_result"
    }
   ],
   "source": [
    "sign_df.columns\n"
   ]
  },
  {
   "cell_type": "code",
   "execution_count": 12,
   "metadata": {},
   "outputs": [
    {
     "ename": "NameError",
     "evalue": "name 'grouped_sign_df' is not defined",
     "output_type": "error",
     "traceback": [
      "\u001b[1;31m---------------------------------------------------------------------------\u001b[0m",
      "\u001b[1;31mNameError\u001b[0m                                 Traceback (most recent call last)",
      "\u001b[1;32m<ipython-input-12-50a21f75c186>\u001b[0m in \u001b[0;36m<module>\u001b[1;34m\u001b[0m\n\u001b[1;32m----> 1\u001b[1;33m \u001b[0mgrouped_sign_df\u001b[0m\u001b[1;33m\u001b[0m\u001b[1;33m\u001b[0m\u001b[0m\n\u001b[0m",
      "\u001b[1;31mNameError\u001b[0m: name 'grouped_sign_df' is not defined"
     ]
    }
   ],
   "source": [
    "grouped_sign_df"
   ]
  },
  {
   "cell_type": "code",
   "execution_count": null,
   "metadata": {},
   "outputs": [],
   "source": [
    "grouped_sign_df = sign_df.groupby(by=['Mile Post (ten miles)','Sign Type']).count()\n",
    "grouped_sign_df= grouped_sign_df.reset_index()\n",
    "grouped_sign_df.to_csv(\"grouped_sign_df.csv\",index=False)"
   ]
  },
  {
   "cell_type": "code",
   "execution_count": null,
   "metadata": {},
   "outputs": [],
   "source": [
    "grouped_sign_df.loc[grouped_sign_df['Sign Type'] ==\"General Service Signs\", 'Sign Type'] = \"Misc. Other\""
   ]
  },
  {
   "cell_type": "code",
   "execution_count": null,
   "metadata": {},
   "outputs": [],
   "source": [
    "grouped_sign_df['Sign Type'].value_counts()"
   ]
  },
  {
   "cell_type": "code",
   "execution_count": null,
   "metadata": {},
   "outputs": [],
   "source": []
  },
  {
   "cell_type": "markdown",
   "metadata": {},
   "source": [
    "# Sign Inventory Overview"
   ]
  },
  {
   "cell_type": "markdown",
   "metadata": {},
   "source": [
    "### Overall\n",
    "\n",
    "**Sign Filters:** None\n",
    "<br>\n",
    "**Crash Filters:** None"
   ]
  },
  {
   "cell_type": "code",
   "execution_count": 11,
   "metadata": {
    "scrolled": true
   },
   "outputs": [
    {
     "name": "stderr",
     "output_type": "stream",
     "text": [
      "No handles with labels found to put in legend.\n",
      "No handles with labels found to put in legend.\n"
     ]
    }
   ],
   "source": [
    "do_whole_sign_analysis(sign_df, crash_df, \n",
    "                       traffic_df, \"Overall\", \"All\", \"Overall\")"
   ]
  },
  {
   "cell_type": "markdown",
   "metadata": {},
   "source": [
    "### Maintenance Required\n",
    "\n",
    "**Sign Filters:** Maintenance Required != None\n",
    "<br>\n",
    "**Crash Filters:** None"
   ]
  },
  {
   "cell_type": "code",
   "execution_count": 12,
   "metadata": {},
   "outputs": [
    {
     "name": "stdout",
     "output_type": "stream",
     "text": [
      "1254  in analysis sign dataset\n"
     ]
    }
   ],
   "source": [
    "main_req_df = sign_df.loc[sign_df['Maintenance Required']!=\"None\"]\n",
    "print(len(main_req_df), \" in analysis sign dataset\")"
   ]
  },
  {
   "cell_type": "code",
   "execution_count": 13,
   "metadata": {},
   "outputs": [
    {
     "name": "stderr",
     "output_type": "stream",
     "text": [
      "No handles with labels found to put in legend.\n",
      "No handles with labels found to put in legend.\n"
     ]
    }
   ],
   "source": [
    "do_whole_sign_analysis(main_req_df, crash_df, \n",
    "                       traffic_df, \"Maintenance Required\", \"All\", \"Maintenance Required\")"
   ]
  },
  {
   "cell_type": "markdown",
   "metadata": {},
   "source": [
    "### Poor Sign Condition\n",
    "\n",
    "**Sign Filters:** Sign Condition = Poor\n",
    "<br>\n",
    "**Crash Filters:** None"
   ]
  },
  {
   "cell_type": "code",
   "execution_count": 14,
   "metadata": {},
   "outputs": [
    {
     "name": "stdout",
     "output_type": "stream",
     "text": [
      "257  in analysis sign dataset\n"
     ]
    }
   ],
   "source": [
    "poor_condition_df = sign_df.loc[sign_df['Sign Condition']==\"Poor\"]\n",
    "print(len(poor_condition_df), \" in analysis sign dataset\")"
   ]
  },
  {
   "cell_type": "code",
   "execution_count": 15,
   "metadata": {},
   "outputs": [
    {
     "name": "stderr",
     "output_type": "stream",
     "text": [
      "No handles with labels found to put in legend.\n",
      "No handles with labels found to put in legend.\n"
     ]
    }
   ],
   "source": [
    "do_whole_sign_analysis(poor_condition_df, crash_df, \n",
    "                       traffic_df, \"Poor Condition\", \"All\", \"Poor Condition\")"
   ]
  },
  {
   "cell_type": "markdown",
   "metadata": {},
   "source": [
    "# Roadway Characteristics"
   ]
  },
  {
   "cell_type": "markdown",
   "metadata": {},
   "source": [
    "### Stop Signs\n",
    "\n",
    "**Sign Filters:** Specific Sign is Stop\n",
    "<br>\n",
    "**Crash Filters:** None filtered"
   ]
  },
  {
   "cell_type": "code",
   "execution_count": 16,
   "metadata": {},
   "outputs": [
    {
     "name": "stdout",
     "output_type": "stream",
     "text": [
      "344  in analysis sign dataset\n"
     ]
    }
   ],
   "source": [
    "stop_sign_df = sign_df.loc[sign_df['Specific Sign']=='Stop']\n",
    "print(len(stop_sign_df), \" in analysis sign dataset\")"
   ]
  },
  {
   "cell_type": "code",
   "execution_count": 17,
   "metadata": {},
   "outputs": [
    {
     "name": "stderr",
     "output_type": "stream",
     "text": [
      "No handles with labels found to put in legend.\n",
      "No handles with labels found to put in legend.\n"
     ]
    }
   ],
   "source": [
    "do_whole_sign_analysis(stop_sign_df, crash_df, \n",
    "                       traffic_df, \"Stop\", \"All\", \"Stop\")"
   ]
  },
  {
   "cell_type": "markdown",
   "metadata": {},
   "source": [
    "----------------------------------------\n",
    "### Stop & Yield Signs\n",
    "\n",
    "**Sign Filters:** Specific Sign is Stop or Yield signs\n",
    "<br>\n",
    "**Crash Filters:** None filtered"
   ]
  },
  {
   "cell_type": "code",
   "execution_count": 18,
   "metadata": {},
   "outputs": [
    {
     "name": "stdout",
     "output_type": "stream",
     "text": [
      "410  in analysis sign dataset\n"
     ]
    }
   ],
   "source": [
    "stop_yield_sign_df = sign_df.loc[sign_df['Specific Sign'].isin(['Stop','Yield'])]\n",
    "print(len(stop_yield_sign_df), \" in analysis sign dataset\")"
   ]
  },
  {
   "cell_type": "code",
   "execution_count": 19,
   "metadata": {},
   "outputs": [
    {
     "name": "stderr",
     "output_type": "stream",
     "text": [
      "No handles with labels found to put in legend.\n",
      "No handles with labels found to put in legend.\n"
     ]
    }
   ],
   "source": [
    "do_whole_sign_analysis(stop_yield_sign_df, crash_df, \n",
    "                       traffic_df, \"Stop and Yield\", \"All\", \"Stop and Yield\")"
   ]
  },
  {
   "cell_type": "markdown",
   "metadata": {},
   "source": [
    "### Yield Signs\n",
    "\n",
    "**Sign Filters:** Specific Sign is Yield\n",
    "<br>\n",
    "**Crash Filters:** None filtered"
   ]
  },
  {
   "cell_type": "code",
   "execution_count": 20,
   "metadata": {},
   "outputs": [
    {
     "name": "stdout",
     "output_type": "stream",
     "text": [
      "66  in analysis sign dataset\n"
     ]
    }
   ],
   "source": [
    "yield_sign_df = sign_df.loc[sign_df['Specific Sign']=='Yield']\n",
    "print(len(yield_sign_df), \" in analysis sign dataset\")"
   ]
  },
  {
   "cell_type": "code",
   "execution_count": 21,
   "metadata": {},
   "outputs": [
    {
     "name": "stderr",
     "output_type": "stream",
     "text": [
      "No handles with labels found to put in legend.\n",
      "No handles with labels found to put in legend.\n"
     ]
    }
   ],
   "source": [
    "do_whole_sign_analysis(yield_sign_df, crash_df, \n",
    "                       traffic_df, \"Yield\", \"All\", \"Yield\")"
   ]
  },
  {
   "cell_type": "markdown",
   "metadata": {},
   "source": [
    "### Yield & Merge Signs\n",
    "\n",
    "**Sign Filters:** Specific Sign is Yield\n",
    "<br>\n",
    "**Crash Filters:** None filtered"
   ]
  },
  {
   "cell_type": "code",
   "execution_count": 22,
   "metadata": {},
   "outputs": [
    {
     "name": "stdout",
     "output_type": "stream",
     "text": [
      "67  in analysis sign dataset\n"
     ]
    }
   ],
   "source": [
    "merge_yield_sign_df = sign_df.loc[sign_df['Specific Sign'].isin(['Merge','Yield'])]\n",
    "print(len(merge_yield_sign_df), \" in analysis sign dataset\")"
   ]
  },
  {
   "cell_type": "code",
   "execution_count": 23,
   "metadata": {},
   "outputs": [
    {
     "name": "stderr",
     "output_type": "stream",
     "text": [
      "No handles with labels found to put in legend.\n",
      "No handles with labels found to put in legend.\n"
     ]
    }
   ],
   "source": [
    "do_whole_sign_analysis(merge_yield_sign_df, crash_df, \n",
    "                       traffic_df, \"Yield and Merge\", \"All\", \"Yield and Merge\")"
   ]
  },
  {
   "cell_type": "markdown",
   "metadata": {},
   "source": [
    "### Stop, Yield & Merge Signs\n",
    "\n",
    "**Sign Filters:** Specific Sign is Stop, Yield, and Merge\n",
    "<br>\n",
    "**Crash Filters:** None filtered"
   ]
  },
  {
   "cell_type": "code",
   "execution_count": 24,
   "metadata": {},
   "outputs": [
    {
     "name": "stdout",
     "output_type": "stream",
     "text": [
      "411  in analysis sign dataset\n"
     ]
    }
   ],
   "source": [
    "merge_yield_stop_sign_df = sign_df.loc[sign_df['Specific Sign'].isin(['Merge','Yield', \"Stop\"])]\n",
    "print(len(merge_yield_stop_sign_df), \" in analysis sign dataset\")"
   ]
  },
  {
   "cell_type": "code",
   "execution_count": 25,
   "metadata": {},
   "outputs": [
    {
     "name": "stderr",
     "output_type": "stream",
     "text": [
      "No handles with labels found to put in legend.\n",
      "No handles with labels found to put in legend.\n"
     ]
    }
   ],
   "source": [
    "do_whole_sign_analysis(merge_yield_stop_sign_df, crash_df, \n",
    "                       traffic_df, \"Stop, Yield, and Merge\", \"All\", \"Stop Yield Merge\")"
   ]
  },
  {
   "cell_type": "markdown",
   "metadata": {},
   "source": [
    "### Advance traffic and control\n",
    "\n",
    "**Sign Filters:** Sign subtype is Advance traffic control and flow\n",
    "<br>\n",
    "**Crash Filters:** None filtered"
   ]
  },
  {
   "cell_type": "code",
   "execution_count": 26,
   "metadata": {},
   "outputs": [
    {
     "name": "stdout",
     "output_type": "stream",
     "text": [
      "256  in analysis sign dataset\n"
     ]
    }
   ],
   "source": [
    "traffic_n_control_sign_df = sign_df.loc[sign_df['Sign Subtype']=='Advance traffic control and flow']\n",
    "print(len(traffic_n_control_sign_df), \" in analysis sign dataset\")"
   ]
  },
  {
   "cell_type": "code",
   "execution_count": 27,
   "metadata": {},
   "outputs": [
    {
     "name": "stderr",
     "output_type": "stream",
     "text": [
      "No handles with labels found to put in legend.\n",
      "No handles with labels found to put in legend.\n"
     ]
    }
   ],
   "source": [
    "do_whole_sign_analysis(traffic_n_control_sign_df, crash_df, \n",
    "                       traffic_df, \"Advance Traffic and Control\", \"All\", \"Advance Traffic and Control\")"
   ]
  },
  {
   "cell_type": "markdown",
   "metadata": {},
   "source": [
    "### Vertical alignment and other road features\n",
    "\n",
    "**Sign Filters:** Sign subtype is Vertical alignment and other road features\n",
    "<br>\n",
    "**Crash Filters:** None filtered"
   ]
  },
  {
   "cell_type": "code",
   "execution_count": 28,
   "metadata": {},
   "outputs": [
    {
     "name": "stdout",
     "output_type": "stream",
     "text": [
      "71  in analysis sign dataset\n"
     ]
    }
   ],
   "source": [
    "vertical_alignment_df = sign_df.loc[sign_df['Sign Subtype']=='Vertical alignment and other road features']\n",
    "print(len(vertical_alignment_df), \" in analysis sign dataset\")"
   ]
  },
  {
   "cell_type": "code",
   "execution_count": 29,
   "metadata": {},
   "outputs": [
    {
     "name": "stderr",
     "output_type": "stream",
     "text": [
      "No handles with labels found to put in legend.\n",
      "No handles with labels found to put in legend.\n"
     ]
    }
   ],
   "source": [
    "do_whole_sign_analysis(vertical_alignment_df, crash_df, \n",
    "                       traffic_df, \"Vertical alignment\", \"All\", \"Vertical Alignment\")"
   ]
  },
  {
   "cell_type": "markdown",
   "metadata": {},
   "source": [
    "### Horizontal Alignment\n",
    "\n",
    "**Sign Filters:** Sign subtype is Horizontal Alignment\n",
    "<br>\n",
    "**Crash Filters:** Roadway Characteristics = Curve, at grade or Curve, level"
   ]
  },
  {
   "cell_type": "code",
   "execution_count": 30,
   "metadata": {},
   "outputs": [
    {
     "name": "stdout",
     "output_type": "stream",
     "text": [
      "95  in analysis sign dataset\n"
     ]
    }
   ],
   "source": [
    "horizontal_alignment_sign_df = sign_df.loc[sign_df['Sign Subtype'].str.lower()=='horizontal alignment']\n",
    "print(len(horizontal_alignment_sign_df), \" in analysis sign dataset\")"
   ]
  },
  {
   "cell_type": "code",
   "execution_count": 31,
   "metadata": {},
   "outputs": [
    {
     "name": "stdout",
     "output_type": "stream",
     "text": [
      "195  in analysis crash dataset\n"
     ]
    }
   ],
   "source": [
    "horizontal_alignment_crash_df = crash_df.loc[crash_df['Roadway Characteristics'].isin(['Curved on grade',\n",
    "                                                                                      'Curved and level'])]\n",
    "print(len(horizontal_alignment_crash_df), \" in analysis crash dataset\")"
   ]
  },
  {
   "cell_type": "code",
   "execution_count": 32,
   "metadata": {},
   "outputs": [
    {
     "name": "stderr",
     "output_type": "stream",
     "text": [
      "No handles with labels found to put in legend.\n",
      "No handles with labels found to put in legend.\n"
     ]
    }
   ],
   "source": [
    "do_whole_sign_analysis(horizontal_alignment_sign_df, horizontal_alignment_crash_df, \n",
    "                       traffic_df, \"Horizontal Alignment\", \"Curved Road\", \"Horizontal Alignment\")"
   ]
  },
  {
   "cell_type": "markdown",
   "metadata": {},
   "source": [
    "### Horizontal Alignment\n",
    "\n",
    "**Sign Filters:** Sign subtype is Horizontal Alignment\n",
    "<br>\n",
    "**Crash Filters:** Crash included a roadway departure"
   ]
  },
  {
   "cell_type": "code",
   "execution_count": 33,
   "metadata": {},
   "outputs": [
    {
     "name": "stdout",
     "output_type": "stream",
     "text": [
      "95  in analysis sign dataset\n"
     ]
    }
   ],
   "source": [
    "horizontal_alignment_sign_df = sign_df.loc[sign_df['Sign Subtype'].str.lower()=='horizontal alignment']\n",
    "print(len(horizontal_alignment_sign_df), \" in analysis sign dataset\")"
   ]
  },
  {
   "cell_type": "code",
   "execution_count": 34,
   "metadata": {},
   "outputs": [
    {
     "name": "stdout",
     "output_type": "stream",
     "text": [
      "308  in analysis crash dataset\n"
     ]
    }
   ],
   "source": [
    "lane_departure_crash_df = crash_df.loc[crash_df['Lane Departure Prior to Incident?'].str.lower()==\"yes\"]\n",
    "print(len(lane_departure_crash_df), \" in analysis crash dataset\")"
   ]
  },
  {
   "cell_type": "code",
   "execution_count": 35,
   "metadata": {},
   "outputs": [
    {
     "name": "stderr",
     "output_type": "stream",
     "text": [
      "No handles with labels found to put in legend.\n",
      "No handles with labels found to put in legend.\n"
     ]
    }
   ],
   "source": [
    "do_whole_sign_analysis(horizontal_alignment_sign_df, horizontal_alignment_crash_df, \n",
    "                       traffic_df, \"Horizontal Alignment\", \"Roadway Departure\", \"Horizontal Alignments Roadway Departures\")"
   ]
  },
  {
   "cell_type": "markdown",
   "metadata": {},
   "source": [
    "### Horizontal Alignment\n",
    "\n",
    "**Sign Filters:** Sign subtype is Horizontal Alignment\n",
    "<br>\n",
    "**Crash Filters:** Crashes include a motorcycle"
   ]
  },
  {
   "cell_type": "code",
   "execution_count": 36,
   "metadata": {},
   "outputs": [
    {
     "name": "stdout",
     "output_type": "stream",
     "text": [
      "95  in analysis sign dataset\n"
     ]
    }
   ],
   "source": [
    "horizontal_alignment_sign_df = sign_df.loc[sign_df['Sign Subtype'].str.lower()=='horizontal alignment']\n",
    "print(len(horizontal_alignment_sign_df), \" in analysis sign dataset\")"
   ]
  },
  {
   "cell_type": "code",
   "execution_count": 37,
   "metadata": {},
   "outputs": [
    {
     "name": "stdout",
     "output_type": "stream",
     "text": [
      "170  in analysis crash dataset\n"
     ]
    }
   ],
   "source": [
    "motorcycle_crash_df = crash_df.loc[crash_df['Vehicle Type(s)'].str.contains(\"Motorcycle\")]\n",
    "print(len(motorcycle_crash_df), \" in analysis crash dataset\")"
   ]
  },
  {
   "cell_type": "code",
   "execution_count": 38,
   "metadata": {},
   "outputs": [
    {
     "name": "stderr",
     "output_type": "stream",
     "text": [
      "No handles with labels found to put in legend.\n",
      "No handles with labels found to put in legend.\n"
     ]
    }
   ],
   "source": [
    "do_whole_sign_analysis(horizontal_alignment_sign_df, motorcycle_crash_df, \n",
    "                       traffic_df, \"Horizontal Alignment\", \"Roadway Departure\", \"Horizontal Alignments Motorcycles\")"
   ]
  },
  {
   "cell_type": "markdown",
   "metadata": {},
   "source": [
    "### Visitor Center\n",
    "\n",
    "**Sign Filters:** Recreational type signs: specific signs = destination, overlook, visitor center, parking area, landmark\n",
    "<br>\n",
    "**Crash Filters:** None"
   ]
  },
  {
   "cell_type": "code",
   "execution_count": 39,
   "metadata": {},
   "outputs": [
    {
     "name": "stdout",
     "output_type": "stream",
     "text": [
      "623  in analysis sign dataset\n"
     ]
    }
   ],
   "source": [
    "temp_df = sign_df.loc[sign_df['Sign Type']=='Recreational']\n",
    "visitor_signs_df = temp_df.loc[temp_df['Specific Sign'].isin(['Destination',\n",
    "                                                             'Overlook',\n",
    "                                                             'Landmarks',\n",
    "                                                             'Parking area',\n",
    "                                                             'Visitor Center'])]\n",
    "print(len(visitor_signs_df), \" in analysis sign dataset\")"
   ]
  },
  {
   "cell_type": "code",
   "execution_count": 40,
   "metadata": {
    "scrolled": true
   },
   "outputs": [
    {
     "name": "stderr",
     "output_type": "stream",
     "text": [
      "No handles with labels found to put in legend.\n",
      "No handles with labels found to put in legend.\n"
     ]
    }
   ],
   "source": [
    "do_whole_sign_analysis(visitor_signs_df, crash_df, \n",
    "                       traffic_df, \"Visitor Center\", \"All\", \"Visitor Center\")"
   ]
  },
  {
   "cell_type": "markdown",
   "metadata": {},
   "source": [
    "### Visitor Center\n",
    "\n",
    "**Sign Filters:** Recreational type signs: specific signs = destination, overlook, visitor center, parking area, landmark\n",
    "<br>\n",
    "**Crash Filters:** # of vehicles involved > 1"
   ]
  },
  {
   "cell_type": "code",
   "execution_count": 41,
   "metadata": {},
   "outputs": [
    {
     "name": "stdout",
     "output_type": "stream",
     "text": [
      "623  in analysis sign dataset\n"
     ]
    }
   ],
   "source": [
    "temp_df = sign_df.loc[sign_df['Sign Type']=='Recreational']\n",
    "visitor_signs_df = temp_df.loc[temp_df['Specific Sign'].isin(['Destination',\n",
    "                                                             'Overlook',\n",
    "                                                             'Landmarks',\n",
    "                                                             'Parking area',\n",
    "                                                             'Visitor Center'])]\n",
    "print(len(visitor_signs_df), \" in analysis sign dataset\")"
   ]
  },
  {
   "cell_type": "code",
   "execution_count": 42,
   "metadata": {},
   "outputs": [
    {
     "name": "stdout",
     "output_type": "stream",
     "text": [
      "133  in analysis crash dataset\n"
     ]
    }
   ],
   "source": [
    "multicar_crash_df = crash_df.loc[crash_df['Vehicle Involved? (#)'].isin([2,3])]\n",
    "print(len(multicar_crash_df), \" in analysis crash dataset\")"
   ]
  },
  {
   "cell_type": "code",
   "execution_count": 43,
   "metadata": {},
   "outputs": [
    {
     "name": "stderr",
     "output_type": "stream",
     "text": [
      "No handles with labels found to put in legend.\n",
      "No handles with labels found to put in legend.\n"
     ]
    }
   ],
   "source": [
    "do_whole_sign_analysis(visitor_signs_df, crash_df, \n",
    "                       traffic_df, \"Visitor Center\", \"Multi-Vehicle\", \"Visitor Center Multi Vehicle\")"
   ]
  },
  {
   "cell_type": "markdown",
   "metadata": {},
   "source": [
    "### Intersections\n",
    "\n",
    "**Sign Filters:** Specific Sign is Stop, Yield, and Merge\n",
    "<br>\n",
    "**Crash Filters:** Lane Departure Prior to Incident? == Yes"
   ]
  },
  {
   "cell_type": "code",
   "execution_count": 44,
   "metadata": {},
   "outputs": [
    {
     "name": "stdout",
     "output_type": "stream",
     "text": [
      "423  in analysis sign dataset\n"
     ]
    }
   ],
   "source": [
    "intersection_sign_df = sign_df.loc[(sign_df['Specific Sign'].isin(['Merge','Yield', \"Stop\"]))|(sign_df['Sign Subtype']==\"Intersections/crossings\")]\n",
    "print(len(intersection_sign_df), \" in analysis sign dataset\")"
   ]
  },
  {
   "cell_type": "code",
   "execution_count": 45,
   "metadata": {},
   "outputs": [
    {
     "name": "stdout",
     "output_type": "stream",
     "text": [
      "63  in analysis crash dataset\n"
     ]
    }
   ],
   "source": [
    "intersection_crash_df = crash_df.loc[crash_df['Location of Accident'].isin([\n",
    "    'Intersection, on roadway','In parking lane/lot/zone','Turnout/overlook, off roadway'\n",
    "])]\n",
    "print(len(intersection_crash_df), \" in analysis crash dataset\")"
   ]
  },
  {
   "cell_type": "code",
   "execution_count": 46,
   "metadata": {},
   "outputs": [
    {
     "name": "stderr",
     "output_type": "stream",
     "text": [
      "No handles with labels found to put in legend.\n",
      "No handles with labels found to put in legend.\n"
     ]
    }
   ],
   "source": [
    "do_whole_sign_analysis(intersection_sign_df, intersection_crash_df, \n",
    "                       traffic_df, \"Intersection\", \"Intersection\", \"Intersections\")"
   ]
  },
  {
   "cell_type": "markdown",
   "metadata": {},
   "source": [
    "### Overlooks\n",
    "\n",
    "**Sign Filters:** Specific Sign is Overlook\n",
    "<br>\n",
    "**Crash Filters:** None"
   ]
  },
  {
   "cell_type": "code",
   "execution_count": 47,
   "metadata": {},
   "outputs": [
    {
     "name": "stdout",
     "output_type": "stream",
     "text": [
      "179  in analysis sign dataset\n"
     ]
    }
   ],
   "source": [
    "overlook_sign_df = sign_df.loc[sign_df['Specific Sign']==\"Overlook\"]\n",
    "print(len(overlook_sign_df), \" in analysis sign dataset\")"
   ]
  },
  {
   "cell_type": "code",
   "execution_count": 48,
   "metadata": {},
   "outputs": [
    {
     "name": "stderr",
     "output_type": "stream",
     "text": [
      "No handles with labels found to put in legend.\n",
      "No handles with labels found to put in legend.\n"
     ]
    }
   ],
   "source": [
    "do_whole_sign_analysis(overlook_sign_df, crash_df, \n",
    "                       traffic_df, \"Overlook\", \"All\", \"Overlook\")"
   ]
  },
  {
   "cell_type": "markdown",
   "metadata": {},
   "source": [
    "### Overlooks Multi-Vehicle\n",
    "\n",
    "**Sign Filters:** Specific Sign is Overlook\n",
    "<br>\n",
    "**Crash Filters:** None"
   ]
  },
  {
   "cell_type": "code",
   "execution_count": 49,
   "metadata": {},
   "outputs": [
    {
     "name": "stdout",
     "output_type": "stream",
     "text": [
      "179  in analysis sign dataset\n"
     ]
    }
   ],
   "source": [
    "overlook_sign_df = sign_df.loc[sign_df['Specific Sign']==\"Overlook\"]\n",
    "print(len(overlook_sign_df), \" in analysis sign dataset\")"
   ]
  },
  {
   "cell_type": "code",
   "execution_count": 50,
   "metadata": {},
   "outputs": [
    {
     "name": "stdout",
     "output_type": "stream",
     "text": [
      "133  in analysis crash dataset\n"
     ]
    }
   ],
   "source": [
    "multicar_crash_df = crash_df.loc[crash_df['Vehicle Involved? (#)'].isin([2,3])]\n",
    "print(len(multicar_crash_df), \" in analysis crash dataset\")"
   ]
  },
  {
   "cell_type": "code",
   "execution_count": 51,
   "metadata": {},
   "outputs": [
    {
     "name": "stderr",
     "output_type": "stream",
     "text": [
      "No handles with labels found to put in legend.\n",
      "No handles with labels found to put in legend.\n"
     ]
    }
   ],
   "source": [
    "do_whole_sign_analysis(overlook_sign_df, multicar_crash_df, \n",
    "                       traffic_df, \"Overlook\", \"Multi-Vehicle\", \"Overlook Multi Vehicle\")"
   ]
  },
  {
   "cell_type": "markdown",
   "metadata": {},
   "source": [
    "# Signs of Special Interest"
   ]
  },
  {
   "cell_type": "markdown",
   "metadata": {},
   "source": [
    "### Motoman Signs\n",
    "\n",
    "**Sign Filters:** Specific Sign is Motoman signs\n",
    "<br>\n",
    "**Crash Filters:** Lane Departure Prior to Incident? == Yes"
   ]
  },
  {
   "cell_type": "code",
   "execution_count": 52,
   "metadata": {},
   "outputs": [
    {
     "name": "stdout",
     "output_type": "stream",
     "text": [
      "4  in analysis sign dataset\n"
     ]
    }
   ],
   "source": [
    "motoman_sign_df = sign_df.loc[sign_df['Specific Sign'].str.lower()=='motoman']\n",
    "print(len(motoman_sign_df), \" in analysis sign dataset\")"
   ]
  },
  {
   "cell_type": "code",
   "execution_count": 53,
   "metadata": {},
   "outputs": [
    {
     "name": "stdout",
     "output_type": "stream",
     "text": [
      "307  in analysis crash dataset\n"
     ]
    }
   ],
   "source": [
    "lane_departure_crash_df = crash_df.loc[crash_df['Lane Departure Prior to Incident?']==\"Yes\"]\n",
    "print(len(lane_departure_crash_df), \" in analysis crash dataset\")"
   ]
  },
  {
   "cell_type": "code",
   "execution_count": 54,
   "metadata": {},
   "outputs": [
    {
     "name": "stderr",
     "output_type": "stream",
     "text": [
      "No handles with labels found to put in legend.\n",
      "No handles with labels found to put in legend.\n"
     ]
    }
   ],
   "source": [
    "do_whole_sign_analysis(motoman_sign_df, lane_departure_crash_df, \n",
    "                       traffic_df, \"Motoman\", \"Lane Departure\", \"Motoman\")"
   ]
  },
  {
   "cell_type": "markdown",
   "metadata": {},
   "source": [
    "### Speed Limit Signs\n",
    "\n",
    "**Sign Filters:** Sign Subtype is Speed Limit signs\n",
    "<br>\n",
    "**Crash Filters:** Crash factor 1 or 2 is Speeding / too fast for conditions"
   ]
  },
  {
   "cell_type": "code",
   "execution_count": 55,
   "metadata": {},
   "outputs": [
    {
     "name": "stdout",
     "output_type": "stream",
     "text": [
      "126  in analysis sign dataset\n"
     ]
    }
   ],
   "source": [
    "speed_limit_sign_df = sign_df.loc[sign_df['Sign Subtype'].str.lower()=='speed limit']\n",
    "print(len(speed_limit_sign_df), \" in analysis sign dataset\")"
   ]
  },
  {
   "cell_type": "code",
   "execution_count": 56,
   "metadata": {},
   "outputs": [
    {
     "name": "stdout",
     "output_type": "stream",
     "text": [
      "56  in analysis crash dataset\n"
     ]
    }
   ],
   "source": [
    "speeding_crash_df = crash_df.loc[(crash_df['Factor 1']==\"Speeding / too fast for conditions\")|(crash_df['Factor 2']==\"Speeding / too fast for conditions\")]\n",
    "print(len(speeding_crash_df), \" in analysis crash dataset\")"
   ]
  },
  {
   "cell_type": "code",
   "execution_count": 57,
   "metadata": {},
   "outputs": [
    {
     "name": "stderr",
     "output_type": "stream",
     "text": [
      "No handles with labels found to put in legend.\n",
      "No handles with labels found to put in legend.\n"
     ]
    }
   ],
   "source": [
    "do_whole_sign_analysis(speed_limit_sign_df, speeding_crash_df, \n",
    "                       traffic_df, \"Speed Limit\", \"Speeding\", \"Speed Limit\")"
   ]
  },
  {
   "cell_type": "code",
   "execution_count": 58,
   "metadata": {},
   "outputs": [
    {
     "name": "stderr",
     "output_type": "stream",
     "text": [
      "No handles with labels found to put in legend.\n",
      "No handles with labels found to put in legend.\n"
     ]
    }
   ],
   "source": [
    "do_whole_sign_analysis(speed_limit_sign_df, crash_df, \n",
    "                       traffic_df, \"Speed Limit\", \"All\", \"Speed Limit All Crashes\")"
   ]
  },
  {
   "cell_type": "markdown",
   "metadata": {},
   "source": [
    "### Speed Limit/Advisory Signs\n",
    "\n",
    "**Sign Filters:** subtype = speed limit, specific sign =  advisory speed or reduce speed ahead\n",
    "<br>\n",
    "**Crash Filters:** Crash factor 1 or 2 is Speeding / too fast for conditions"
   ]
  },
  {
   "cell_type": "code",
   "execution_count": 59,
   "metadata": {},
   "outputs": [
    {
     "name": "stdout",
     "output_type": "stream",
     "text": [
      "219  in analysis sign dataset\n"
     ]
    }
   ],
   "source": [
    "all_speed_signs_df = sign_df.loc[(sign_df['Sign Subtype'].str.lower()=='speed limit')|\n",
    "                                   (sign_df['Specific Sign'].str.lower()=='reduce speed ahead')|\n",
    "                                   (sign_df['Specific Sign'].str.lower()=='advisory speed')]\n",
    "print(len(all_speed_signs_df), \" in analysis sign dataset\")"
   ]
  },
  {
   "cell_type": "code",
   "execution_count": 60,
   "metadata": {},
   "outputs": [
    {
     "name": "stdout",
     "output_type": "stream",
     "text": [
      "56  in analysis crash dataset\n"
     ]
    }
   ],
   "source": [
    "speeding_crash_df = crash_df.loc[(crash_df['Factor 1']==\"Speeding / too fast for conditions\")|(crash_df['Factor 2']==\"Speeding / too fast for conditions\")]\n",
    "print(len(speeding_crash_df), \" in analysis crash dataset\")"
   ]
  },
  {
   "cell_type": "code",
   "execution_count": 61,
   "metadata": {
    "scrolled": true
   },
   "outputs": [
    {
     "name": "stderr",
     "output_type": "stream",
     "text": [
      "No handles with labels found to put in legend.\n",
      "No handles with labels found to put in legend.\n"
     ]
    }
   ],
   "source": [
    "do_whole_sign_analysis(all_speed_signs_df, speeding_crash_df, \n",
    "                       traffic_df, \"Speed Limit and Advisory\", \"Speeding\", \"Speed Limit and Advisory\")"
   ]
  },
  {
   "cell_type": "markdown",
   "metadata": {},
   "source": [
    "### No Commercial Vehicles Signs\n",
    "\n",
    "**Sign Filters:** Specific Sign is No Commercial Vehicles signs\n",
    "<br>\n",
    "**Crash Filters:** None filtered"
   ]
  },
  {
   "cell_type": "code",
   "execution_count": 25,
   "metadata": {
    "scrolled": false
   },
   "outputs": [
    {
     "name": "stdout",
     "output_type": "stream",
     "text": [
      "155  in analysis sign dataset\n"
     ]
    }
   ],
   "source": [
    "no_commercial_vehicles_sign_df = sign_df.loc[sign_df['Specific Sign']==\"No commercial vehicles\"]\n",
    "print(len(no_commercial_vehicles_sign_df), \" in analysis sign dataset\")"
   ]
  },
  {
   "cell_type": "code",
   "execution_count": 26,
   "metadata": {
    "scrolled": true
   },
   "outputs": [
    {
     "name": "stderr",
     "output_type": "stream",
     "text": [
      "No handles with labels found to put in legend.\n",
      "No handles with labels found to put in legend.\n"
     ]
    }
   ],
   "source": [
    "do_whole_sign_analysis(no_commercial_vehicles_sign_df, crash_df, \n",
    "                       traffic_df, \"No Commercial Vehicles\", \"All\", \"No Commercial Vehicles\")"
   ]
  },
  {
   "cell_type": "markdown",
   "metadata": {},
   "source": [
    "### No Commercial Vehicles Signs on Ramps vs Motor Road\n",
    "\n",
    "**Sign Filters:** Specific Sign is No Commercial Vehicles signs, Physical Location along Motor Road\n",
    "<br>\n",
    "**Crash Filters:** None filtered"
   ]
  },
  {
   "cell_type": "code",
   "execution_count": 27,
   "metadata": {},
   "outputs": [
    {
     "data": {
      "text/plain": [
       "State Road                62\n",
       "Ramp                      40\n",
       "Motor Road                30\n",
       "Private Road              21\n",
       "VA 43 south to Bedford     1\n",
       "Entrance                   1\n",
       "Name: Physical Location, dtype: int64"
      ]
     },
     "execution_count": 27,
     "metadata": {},
     "output_type": "execute_result"
    }
   ],
   "source": [
    "no_commercial_vehicles_sign_df['Physical Location'].value_counts()"
   ]
  },
  {
   "cell_type": "code",
   "execution_count": 28,
   "metadata": {},
   "outputs": [
    {
     "name": "stdout",
     "output_type": "stream",
     "text": [
      "40  in analysis sign dataset\n"
     ]
    }
   ],
   "source": [
    "temp_df= sign_df.loc[sign_df['Specific Sign']==\"No commercial vehicles\"]\n",
    "no_commercial_vehicles_ramp_sign_df = temp_df.loc[temp_df['Physical Location']==\"Ramp\"]\n",
    "print(len(no_commercial_vehicles_ramp_sign_df), \" in analysis sign dataset\")"
   ]
  },
  {
   "cell_type": "code",
   "execution_count": 29,
   "metadata": {},
   "outputs": [
    {
     "name": "stdout",
     "output_type": "stream",
     "text": [
      "30  in analysis sign dataset\n"
     ]
    }
   ],
   "source": [
    "temp_df= sign_df.loc[sign_df['Specific Sign']==\"No commercial vehicles\"]\n",
    "no_commercial_vehicles_motor_road_sign_df = temp_df.loc[temp_df['Physical Location']==\"Motor Road\"]\n",
    "print(len(no_commercial_vehicles_motor_road_sign_df), \" in analysis sign dataset\")"
   ]
  },
  {
   "cell_type": "code",
   "execution_count": 30,
   "metadata": {},
   "outputs": [
    {
     "name": "stderr",
     "output_type": "stream",
     "text": [
      "No handles with labels found to put in legend.\n",
      "No handles with labels found to put in legend.\n"
     ]
    }
   ],
   "source": [
    "do_whole_sign_analysis(no_commercial_vehicles_motor_road_sign_df, crash_df, \n",
    "                       traffic_df, \"No Commercial Vehicles on Motor Road\", \"All\", \n",
    "                       \"No Commercial Vehicles on Motor Road\")"
   ]
  },
  {
   "cell_type": "markdown",
   "metadata": {},
   "source": [
    "### No Commercial Vehicles Signs on Ramps vs Motor Road\n",
    "\n",
    "**Sign Filters:** Specific Sign is No Commercial Vehicles signs, Physical Location along Motor Road\n",
    "<br>\n",
    "**Crash Filters:** None filtered"
   ]
  },
  {
   "cell_type": "code",
   "execution_count": 31,
   "metadata": {},
   "outputs": [
    {
     "name": "stdout",
     "output_type": "stream",
     "text": [
      "125  in analysis sign dataset\n"
     ]
    }
   ],
   "source": [
    "temp_df= sign_df.loc[sign_df['Specific Sign']==\"No commercial vehicles\"]\n",
    "no_commercial_vehicles_non_motor_road_sign_df = temp_df.loc[temp_df['Physical Location']!=\"Motor Road\"]\n",
    "print(len(no_commercial_vehicles_non_motor_road_sign_df), \" in analysis sign dataset\")"
   ]
  },
  {
   "cell_type": "code",
   "execution_count": 32,
   "metadata": {},
   "outputs": [
    {
     "name": "stderr",
     "output_type": "stream",
     "text": [
      "No handles with labels found to put in legend.\n",
      "No handles with labels found to put in legend.\n"
     ]
    }
   ],
   "source": [
    "do_whole_sign_analysis(no_commercial_vehicles_motor_road_sign_df, crash_df, \n",
    "                       traffic_df, \"No Commercial Vehicles on Motor Road\", \"All\", \n",
    "                       \"No Commercial Vehicles on Motor Road\")"
   ]
  },
  {
   "cell_type": "code",
   "execution_count": null,
   "metadata": {},
   "outputs": [],
   "source": []
  },
  {
   "cell_type": "markdown",
   "metadata": {},
   "source": [
    "### Wildlife Crossing\n",
    "\n",
    "**Sign Filters:** Sign Subtype is Animal crossing\n",
    "<br>\n",
    "**Crash Filters:** Accident Class is Collision with Animal"
   ]
  },
  {
   "cell_type": "code",
   "execution_count": 70,
   "metadata": {},
   "outputs": [
    {
     "name": "stdout",
     "output_type": "stream",
     "text": [
      "15  in analysis sign dataset\n"
     ]
    }
   ],
   "source": [
    "wildlife_crossing_sign_df = sign_df.loc[sign_df['Sign Subtype']==\"Animal crossing\"]\n",
    "print(len(wildlife_crossing_sign_df), \" in analysis sign dataset\")"
   ]
  },
  {
   "cell_type": "code",
   "execution_count": 71,
   "metadata": {},
   "outputs": [
    {
     "name": "stdout",
     "output_type": "stream",
     "text": [
      "135  in analysis crash dataset\n"
     ]
    }
   ],
   "source": [
    "wildlife_crossing_crash_df = crash_df.loc[(crash_df['Accident Class']==\"Collision with Animal\")|\n",
    "                                   (crash_df['Factor 1']=='Swerved to avoid animal')|\n",
    "                                   (crash_df['Factor 2']=='Swerved to avoid animal')]\n",
    "print(len(wildlife_crossing_crash_df), \" in analysis crash dataset\")"
   ]
  },
  {
   "cell_type": "code",
   "execution_count": 72,
   "metadata": {
    "scrolled": true
   },
   "outputs": [
    {
     "name": "stderr",
     "output_type": "stream",
     "text": [
      "No handles with labels found to put in legend.\n",
      "No handles with labels found to put in legend.\n"
     ]
    }
   ],
   "source": [
    "do_whole_sign_analysis(wildlife_crossing_sign_df, wildlife_crossing_crash_df, \n",
    "                       traffic_df, \"Wildlife Crossing\", \"Animal\", \"Wildlife Crossing\")"
   ]
  },
  {
   "cell_type": "markdown",
   "metadata": {},
   "source": [
    "### Animal Crashes\n",
    "**Sign Filters:** All\n",
    "<br>\n",
    "**Crash Filters:** Accident Class is Collision with Animal"
   ]
  },
  {
   "cell_type": "code",
   "execution_count": 73,
   "metadata": {},
   "outputs": [
    {
     "name": "stdout",
     "output_type": "stream",
     "text": [
      "135  in analysis crash dataset\n"
     ]
    }
   ],
   "source": [
    "animal_only_crash_df = crash_df.loc[(crash_df['Accident Class']==\"Collision with Animal\")|\n",
    "                                   (crash_df['Factor 1']=='Swerved to avoid animal')|\n",
    "                                   (crash_df['Factor 2']=='Swerved to avoid animal')]\n",
    "print(len(animal_only_crash_df), \" in analysis crash dataset\")"
   ]
  },
  {
   "cell_type": "code",
   "execution_count": 74,
   "metadata": {},
   "outputs": [
    {
     "name": "stderr",
     "output_type": "stream",
     "text": [
      "No handles with labels found to put in legend.\n",
      "No handles with labels found to put in legend.\n"
     ]
    }
   ],
   "source": [
    "do_whole_sign_analysis(sign_df, animal_only_crash_df, \n",
    "                       traffic_df, \"All\", \"Animal\", \"Animal Crashes\")"
   ]
  },
  {
   "cell_type": "markdown",
   "metadata": {},
   "source": [
    "### Pedestrian Crashes\n",
    "**Sign Filters:** All\n",
    "<br>\n",
    "**Crash Filters:** Accident Class is Collision with Person"
   ]
  },
  {
   "cell_type": "code",
   "execution_count": 75,
   "metadata": {},
   "outputs": [
    {
     "name": "stdout",
     "output_type": "stream",
     "text": [
      "1  in analysis crash dataset\n"
     ]
    }
   ],
   "source": [
    "person_crash_crash_df = crash_df.loc[crash_df['Accident Class']==\"Collision with Person\"]\n",
    "print(len(person_crash_crash_df), \" in analysis crash dataset\")"
   ]
  },
  {
   "cell_type": "code",
   "execution_count": 76,
   "metadata": {},
   "outputs": [
    {
     "name": "stderr",
     "output_type": "stream",
     "text": [
      "No handles with labels found to put in legend.\n",
      "No handles with labels found to put in legend.\n"
     ]
    }
   ],
   "source": [
    "do_whole_sign_analysis(sign_df, person_crash_crash_df, \n",
    "                       traffic_df, \"All\", \"Pedestrian\", \"Pedestrian Crashes\")"
   ]
  },
  {
   "cell_type": "markdown",
   "metadata": {},
   "source": [
    "### Pedestrian Crossing\n",
    "**Sign Filters:** Sign Subtype is Pedestrian\n",
    "<br>\n",
    "**Crash Filters:** Accident Class is Collision with Person"
   ]
  },
  {
   "cell_type": "code",
   "execution_count": 77,
   "metadata": {},
   "outputs": [
    {
     "name": "stdout",
     "output_type": "stream",
     "text": [
      "4  in analysis sign dataset\n"
     ]
    }
   ],
   "source": [
    "ped_crossing_sign_df = sign_df.loc[sign_df['Sign Subtype']==\"Pedestrian\"]\n",
    "print(len(ped_crossing_sign_df), \" in analysis sign dataset\")"
   ]
  },
  {
   "cell_type": "code",
   "execution_count": 78,
   "metadata": {},
   "outputs": [
    {
     "name": "stdout",
     "output_type": "stream",
     "text": [
      "1  in analysis crash dataset\n"
     ]
    }
   ],
   "source": [
    "person_crash_crash_df = crash_df.loc[crash_df['Accident Class']==\"Collision with Person\"]\n",
    "print(len(person_crash_crash_df), \" in analysis crash dataset\")"
   ]
  },
  {
   "cell_type": "code",
   "execution_count": 79,
   "metadata": {},
   "outputs": [
    {
     "name": "stderr",
     "output_type": "stream",
     "text": [
      "No handles with labels found to put in legend.\n",
      "No handles with labels found to put in legend.\n"
     ]
    }
   ],
   "source": [
    "do_whole_sign_analysis(ped_crossing_sign_df, person_crash_crash_df, \n",
    "                       traffic_df, \"Pedestrian Crossing\", \"Pedestrian\", \"Pedestrian Crossing\")"
   ]
  },
  {
   "cell_type": "code",
   "execution_count": null,
   "metadata": {},
   "outputs": [],
   "source": []
  },
  {
   "cell_type": "code",
   "execution_count": 80,
   "metadata": {},
   "outputs": [
    {
     "data": {
      "text/plain": [
       "(31, 44)"
      ]
     },
     "execution_count": 80,
     "metadata": {},
     "output_type": "execute_result"
    }
   ],
   "source": [
    "sign_df.loc[(sign_df['clean text'].str.contains(\"HIKING\", na=False))&(sign_df['Sign Subtype']=='Interest area')].shape"
   ]
  },
  {
   "cell_type": "code",
   "execution_count": null,
   "metadata": {},
   "outputs": [],
   "source": []
  },
  {
   "cell_type": "code",
   "execution_count": null,
   "metadata": {},
   "outputs": [],
   "source": []
  },
  {
   "cell_type": "markdown",
   "metadata": {},
   "source": [
    "----\n",
    "# Contributing Factors"
   ]
  },
  {
   "cell_type": "markdown",
   "metadata": {},
   "source": [
    "#### Multiple Signs\n",
    "\n",
    "**Sign Filters:** Sign Subtype is Multiple Signs == Yes\n",
    "<br>\n",
    "**Crash Filters:** None"
   ]
  },
  {
   "cell_type": "code",
   "execution_count": 81,
   "metadata": {},
   "outputs": [
    {
     "name": "stdout",
     "output_type": "stream",
     "text": [
      "1683  in analysis sign dataset\n"
     ]
    }
   ],
   "source": [
    "multiple_sign_df = sign_df.loc[sign_df['Multiple Signs']==\"Yes\"]\n",
    "print(len(multiple_sign_df), \" in analysis sign dataset\")"
   ]
  },
  {
   "cell_type": "code",
   "execution_count": 82,
   "metadata": {},
   "outputs": [
    {
     "name": "stderr",
     "output_type": "stream",
     "text": [
      "No handles with labels found to put in legend.\n",
      "No handles with labels found to put in legend.\n"
     ]
    }
   ],
   "source": [
    "do_whole_sign_analysis(multiple_sign_df, crash_df, \n",
    "                       traffic_df, \"Multiple Signs\", \"All\", \"Multiple Signs\")"
   ]
  },
  {
   "cell_type": "markdown",
   "metadata": {},
   "source": [
    "#### Road Condition\n",
    "\n",
    "**Sign Filters:** Sign Subtype is Pedestrian\n",
    "<br>\n",
    "**Crash Filters:** None"
   ]
  },
  {
   "cell_type": "code",
   "execution_count": 83,
   "metadata": {},
   "outputs": [
    {
     "name": "stdout",
     "output_type": "stream",
     "text": [
      "26  in analysis sign dataset\n"
     ]
    }
   ],
   "source": [
    "road_condition_sign_df = sign_df.loc[sign_df['Sign Subtype']==\"Roadway surface condition\"]\n",
    "print(len(road_condition_sign_df), \" in analysis sign dataset\")"
   ]
  },
  {
   "cell_type": "code",
   "execution_count": 84,
   "metadata": {
    "scrolled": true
   },
   "outputs": [
    {
     "name": "stderr",
     "output_type": "stream",
     "text": [
      "No handles with labels found to put in legend.\n",
      "No handles with labels found to put in legend.\n"
     ]
    }
   ],
   "source": [
    "do_whole_sign_analysis(road_condition_sign_df, crash_df, \n",
    "                       traffic_df, \"Road Conditions\", \"All\", \"Road Conditions\")"
   ]
  },
  {
   "cell_type": "markdown",
   "metadata": {},
   "source": [
    "#### Time of Day\n",
    "\n",
    "**Sign Filters:** Sign Face is Scotchlite Reflective or Scotchlite material\n",
    "<br>\n",
    "**Crash Filters:** Crash happened in Light Conditions being Dark "
   ]
  },
  {
   "cell_type": "code",
   "execution_count": 13,
   "metadata": {
    "scrolled": true
   },
   "outputs": [
    {
     "name": "stdout",
     "output_type": "stream",
     "text": [
      "127  in analysis crash dataset\n"
     ]
    }
   ],
   "source": [
    "timeofday_crash_df = crash_df.loc[crash_df['Light Conditions'].isin(['Dark - Not Lighted',\n",
    "                                                                    'Dark - Lighted',\n",
    "                                                                    'Dark - Unknown Lighting'])]\n",
    "print(len(timeofday_crash_df), \" in analysis crash dataset\")"
   ]
  },
  {
   "cell_type": "code",
   "execution_count": 14,
   "metadata": {},
   "outputs": [
    {
     "name": "stdout",
     "output_type": "stream",
     "text": [
      "2579  in analysis sign dataset\n"
     ]
    }
   ],
   "source": [
    "timeofday_sign_df = sign_df.loc[sign_df['Sign Face'].isin(['Scotchlite Reflective',\n",
    "                                                           'Scotchlite'])]\n",
    "print(len(timeofday_sign_df), \" in analysis sign dataset\")"
   ]
  },
  {
   "cell_type": "code",
   "execution_count": 87,
   "metadata": {},
   "outputs": [
    {
     "name": "stderr",
     "output_type": "stream",
     "text": [
      "No handles with labels found to put in legend.\n",
      "No handles with labels found to put in legend.\n"
     ]
    }
   ],
   "source": [
    "do_whole_sign_analysis(timeofday_sign_df, timeofday_crash_df, \n",
    "                       traffic_df, \"Scotchlite Sign Face\", \"Dark Lighting\", \"Time of Day\")"
   ]
  },
  {
   "cell_type": "markdown",
   "metadata": {},
   "source": [
    "#### Time of Day Conditions (Scotchlite Reflective Only)\n",
    "\n",
    "**Sign Filters:** Sign Face is Scotchlite Reflective only\n",
    "<br>\n",
    "**Crash Filters:** Crash happened during adverse weather conditions (not clear or cloudy) "
   ]
  },
  {
   "cell_type": "code",
   "execution_count": 15,
   "metadata": {},
   "outputs": [
    {
     "name": "stdout",
     "output_type": "stream",
     "text": [
      "127  in analysis crash dataset\n"
     ]
    }
   ],
   "source": [
    "timeofday_crash_df = crash_df.loc[crash_df['Light Conditions'].isin(['Dark - Not Lighted',\n",
    "                                                                    'Dark - Lighted',\n",
    "                                                                    'Dark - Unknown Lighting'])]\n",
    "print(len(timeofday_crash_df), \" in analysis crash dataset\")"
   ]
  },
  {
   "cell_type": "code",
   "execution_count": 16,
   "metadata": {},
   "outputs": [
    {
     "name": "stdout",
     "output_type": "stream",
     "text": [
      "1683  in analysis sign dataset\n"
     ]
    }
   ],
   "source": [
    "timeofday_scotchlite_ref_sign_df = sign_df.loc[sign_df['Sign Face']=='Scotchlite Reflective']\n",
    "print(len(timeofday_scotchlite_ref_sign_df), \" in analysis sign dataset\")"
   ]
  },
  {
   "cell_type": "code",
   "execution_count": 90,
   "metadata": {},
   "outputs": [
    {
     "name": "stderr",
     "output_type": "stream",
     "text": [
      "No handles with labels found to put in legend.\n",
      "No handles with labels found to put in legend.\n"
     ]
    }
   ],
   "source": [
    "do_whole_sign_analysis(timeofday_scotchlite_ref_sign_df, timeofday_crash_df, \n",
    "                       traffic_df, \"Scotchlite Reflective Sign Face\", \"Dark Lighting\", \"Time of Day Reflective Only\")"
   ]
  },
  {
   "cell_type": "markdown",
   "metadata": {},
   "source": [
    "#### Weather Conditions\n",
    "\n",
    "**Sign Filters:** Sign Subtype is Weather\n",
    "<br>\n",
    "**Crash Filters:** Crash happened during adverse weather conditions (not clear or cloudy) "
   ]
  },
  {
   "cell_type": "code",
   "execution_count": 91,
   "metadata": {},
   "outputs": [
    {
     "name": "stdout",
     "output_type": "stream",
     "text": [
      "100  in analysis crash dataset\n"
     ]
    }
   ],
   "source": [
    "weather_crash_df = crash_df.loc[crash_df['Weather Conditions'].isin(['Rain','Fog, smog, smoke',\n",
    "                                                                      'Freezing rain or drizzle','Snow',\n",
    "                                                                      'Severe crosswinds'])]\n",
    "print(len(weather_crash_df), \" in analysis crash dataset\")"
   ]
  },
  {
   "cell_type": "code",
   "execution_count": 92,
   "metadata": {},
   "outputs": [
    {
     "name": "stdout",
     "output_type": "stream",
     "text": [
      "64  in analysis sign dataset\n"
     ]
    }
   ],
   "source": [
    "weather_sign_df = sign_df.loc[sign_df['Sign Subtype']==\"Weather\"]\n",
    "print(len(weather_sign_df), \" in analysis sign dataset\")"
   ]
  },
  {
   "cell_type": "code",
   "execution_count": 93,
   "metadata": {},
   "outputs": [
    {
     "name": "stderr",
     "output_type": "stream",
     "text": [
      "No handles with labels found to put in legend.\n",
      "No handles with labels found to put in legend.\n"
     ]
    }
   ],
   "source": [
    "do_whole_sign_analysis(weather_sign_df, weather_crash_df, \n",
    "                       traffic_df, \"Weather\", \"Adverse Weather\", \"Weather Conditions\")"
   ]
  },
  {
   "cell_type": "markdown",
   "metadata": {},
   "source": [
    "### Distracted Driving\n",
    "\n",
    "**Sign Filters:** None\n",
    "<br>\n",
    "**Crash Filters:** Crash Distracted? is Yes"
   ]
  },
  {
   "cell_type": "code",
   "execution_count": 94,
   "metadata": {},
   "outputs": [
    {
     "data": {
      "text/plain": [
       "Index(['Incident Number', 'Year', 'Date', 'Month', 'Time', 'Hour',\n",
       "       'Location (Description)', 'State', 'County', 'Route Number',\n",
       "       'Road Name', 'Related Intersection', 'Distance to Intersection',\n",
       "       'Milepost', 'Mile Post (ten miles)', 'Latitude', 'Longitude',\n",
       "       'Accident Class', 'Object Struck', 'Crash Severity',\n",
       "       'Location of Accident', 'Direction of Travel', 'Vehicle Involved? (#)',\n",
       "       'Vehicle Type(s)', 'Pedestrian Involved?', 'Bicycle Involved?',\n",
       "       'Manner of Impact', 'Lane Departure Prior to Incident?',\n",
       "       'Edge Rut Present?', 'Hit and Run?', 'Factor 1', 'Factor 2', 'Factor 3',\n",
       "       'Factor 4', 'Person Type', 'Seatbelt Worn?', 'Alcohol?', 'Drugs?',\n",
       "       'Distracted?', 'Medical Condition Present?', 'Vehicle Rollover?',\n",
       "       'Number of Vehicle Passengers', 'Other Information',\n",
       "       'Fatalities (Total)', 'Injuries (Total)', 'Fatalities (Ped)',\n",
       "       'Injuries (Ped)', 'Fatalities (Bike)', 'Injuries (Bike)',\n",
       "       'Property Damage', 'Weather Conditions', 'Light Conditions',\n",
       "       'Surface Conditions', 'Roadway Characteristics',\n",
       "       'Posted Speed Limit (MPH)', 'Comments'],\n",
       "      dtype='object')"
      ]
     },
     "execution_count": 94,
     "metadata": {},
     "output_type": "execute_result"
    }
   ],
   "source": [
    "crash_df.columns"
   ]
  },
  {
   "cell_type": "code",
   "execution_count": 95,
   "metadata": {},
   "outputs": [
    {
     "name": "stdout",
     "output_type": "stream",
     "text": [
      "53  in analysis crash dataset\n"
     ]
    }
   ],
   "source": [
    "distracted_crash_df = crash_df.loc[crash_df['Distracted?'].isin(['No','Unknown'])==False]\n",
    "print(len(distracted_crash_df), \" in analysis crash dataset\")"
   ]
  },
  {
   "cell_type": "code",
   "execution_count": 96,
   "metadata": {},
   "outputs": [
    {
     "name": "stderr",
     "output_type": "stream",
     "text": [
      "No handles with labels found to put in legend.\n",
      "No handles with labels found to put in legend.\n"
     ]
    }
   ],
   "source": [
    "do_whole_sign_analysis(sign_df, distracted_crash_df, \n",
    "                       traffic_df, \"All\", \"Distracted\", \"Distracted\")"
   ]
  },
  {
   "cell_type": "markdown",
   "metadata": {},
   "source": [
    "### Seatbelt Driving\n",
    "\n",
    "**Sign Filters:** Sign Subtype is \"Fasten your seatbelt\"\n",
    "<br>\n",
    "**Crash Filters:** Crash Seatbelt Worn? is No"
   ]
  },
  {
   "cell_type": "code",
   "execution_count": 97,
   "metadata": {},
   "outputs": [
    {
     "name": "stdout",
     "output_type": "stream",
     "text": [
      "25  in analysis crash dataset\n"
     ]
    }
   ],
   "source": [
    "no_seatbelt_crash_df = crash_df.loc[crash_df['Seatbelt Worn?']==\"No\"]\n",
    "print(len(no_seatbelt_crash_df), \" in analysis crash dataset\")"
   ]
  },
  {
   "cell_type": "code",
   "execution_count": 98,
   "metadata": {},
   "outputs": [
    {
     "name": "stdout",
     "output_type": "stream",
     "text": [
      "57  in analysis sign dataset\n"
     ]
    }
   ],
   "source": [
    "seatbelt_sign_df = sign_df.loc[sign_df['Specific Sign']==\"Fasten your seatbelt\"]\n",
    "print(len(seatbelt_sign_df), \" in analysis sign dataset\")"
   ]
  },
  {
   "cell_type": "code",
   "execution_count": 99,
   "metadata": {},
   "outputs": [
    {
     "name": "stderr",
     "output_type": "stream",
     "text": [
      "No handles with labels found to put in legend.\n",
      "No handles with labels found to put in legend.\n"
     ]
    }
   ],
   "source": [
    "do_whole_sign_analysis(seatbelt_sign_df, no_seatbelt_crash_df, \n",
    "                       traffic_df, \"Fasten Your Seatbelt\", \"No Seatbelt\", \"Seatbelt\")"
   ]
  },
  {
   "cell_type": "markdown",
   "metadata": {},
   "source": [
    "### Drug and Alcohol Driving\n",
    "\n",
    "**Sign Filters:** Specific Sign is \"Alcohol Beverages Prohibited\" \n",
    "<br>\n",
    "**Crash Filters:** Crash Acohol? or Drugs? is Yes or Suspected"
   ]
  },
  {
   "cell_type": "code",
   "execution_count": 100,
   "metadata": {},
   "outputs": [
    {
     "name": "stdout",
     "output_type": "stream",
     "text": [
      "46  in analysis crash dataset\n"
     ]
    }
   ],
   "source": [
    "intoxicated_crash_df = crash_df.loc[(crash_df['Alcohol?'].isin([\"Yes\",\"Suspected\"]))\n",
    "                                    |(crash_df['Drugs?'].isin([\"Yes\",\"Suspected\"]))]\n",
    "print(len(intoxicated_crash_df), \" in analysis crash dataset\")"
   ]
  },
  {
   "cell_type": "code",
   "execution_count": 101,
   "metadata": {},
   "outputs": [
    {
     "name": "stdout",
     "output_type": "stream",
     "text": [
      "9  in analysis sign dataset\n"
     ]
    }
   ],
   "source": [
    "no_alcohol_sign_df = sign_df.loc[sign_df['Specific Sign']==\"Alcohol Beverages Prohibited\"]\n",
    "print(len(no_alcohol_sign_df), \" in analysis sign dataset\")"
   ]
  },
  {
   "cell_type": "code",
   "execution_count": 102,
   "metadata": {
    "scrolled": true
   },
   "outputs": [
    {
     "name": "stderr",
     "output_type": "stream",
     "text": [
      "No handles with labels found to put in legend.\n",
      "No handles with labels found to put in legend.\n"
     ]
    }
   ],
   "source": [
    "do_whole_sign_analysis(no_alcohol_sign_df, intoxicated_crash_df, \n",
    "                       traffic_df, \"Alcohol Beverages Prohibited\", \"Intoxicated\", \"Intoxicated\")"
   ]
  },
  {
   "cell_type": "code",
   "execution_count": null,
   "metadata": {},
   "outputs": [],
   "source": []
  },
  {
   "cell_type": "code",
   "execution_count": null,
   "metadata": {},
   "outputs": [],
   "source": []
  },
  {
   "cell_type": "code",
   "execution_count": null,
   "metadata": {},
   "outputs": [],
   "source": []
  },
  {
   "cell_type": "code",
   "execution_count": 1,
   "metadata": {},
   "outputs": [
    {
     "ename": "NameError",
     "evalue": "name 'no_commercial_vehicles_motor_road_sign_df' is not defined",
     "output_type": "error",
     "traceback": [
      "\u001b[1;31m---------------------------------------------------------------------------\u001b[0m",
      "\u001b[1;31mNameError\u001b[0m                                 Traceback (most recent call last)",
      "\u001b[1;32m<ipython-input-1-f8278994ada7>\u001b[0m in \u001b[0;36m<module>\u001b[1;34m\u001b[0m\n\u001b[0;32m      7\u001b[0m \u001b[0mtick_spacing\u001b[0m \u001b[1;33m=\u001b[0m \u001b[1;36m100\u001b[0m\u001b[1;33m\u001b[0m\u001b[1;33m\u001b[0m\u001b[0m\n\u001b[0;32m      8\u001b[0m \u001b[1;33m\u001b[0m\u001b[0m\n\u001b[1;32m----> 9\u001b[1;33m plt.bar(no_commercial_vehicles_motor_road_sign_df['Mile Post (ten miles)'].value_counts().index-5,\n\u001b[0m\u001b[0;32m     10\u001b[0m         \u001b[0mno_commercial_vehicles_motor_road_sign_df\u001b[0m\u001b[1;33m[\u001b[0m\u001b[1;34m'Mile Post (ten miles)'\u001b[0m\u001b[1;33m]\u001b[0m\u001b[1;33m.\u001b[0m\u001b[0mvalue_counts\u001b[0m\u001b[1;33m(\u001b[0m\u001b[1;33m)\u001b[0m\u001b[1;33m.\u001b[0m\u001b[0mvalues\u001b[0m\u001b[1;33m,\u001b[0m\u001b[1;33m\u001b[0m\u001b[1;33m\u001b[0m\u001b[0m\n\u001b[0;32m     11\u001b[0m         width = 10, color = \"peru\", label = \"Motor Road Signs\")\n",
      "\u001b[1;31mNameError\u001b[0m: name 'no_commercial_vehicles_motor_road_sign_df' is not defined"
     ]
    }
   ],
   "source": [
    "import matplotlib.pyplot as plt\n",
    "import matplotlib.ticker as ticker\n",
    "graph_title = \"No Commercial Vehicle Sign Locations by Physical Locations on BLRI Parkway\"\n",
    "axis_title = \"Sign Count\"\n",
    "plt.style.use('seaborn')\n",
    "fig, ax = plt.subplots(1,1,figsize=(20,10))\n",
    "tick_spacing = 100\n",
    "\n",
    "plt.bar(no_commercial_vehicles_motor_road_sign_df['Mile Post (ten miles)'].value_counts().index-5,\n",
    "        no_commercial_vehicles_motor_road_sign_df['Mile Post (ten miles)'].value_counts().values,\n",
    "        width = 10, color = \"peru\", label = \"Motor Road Signs\")\n",
    "\n",
    "\n",
    "plt.bar(no_commercial_vehicles_non_motor_road_sign_df['Mile Post (ten miles)'].value_counts().index-5,\n",
    "        -no_commercial_vehicles_non_motor_road_sign_df['Mile Post (ten miles)'].value_counts().values,\n",
    "        width = 10, label = \"Other Road Location Signs\")\n",
    "\n",
    "plt.bar(no_commercial_vehicles_ramp_sign_df['Mile Post (ten miles)'].value_counts().index-5,\n",
    "        -no_commercial_vehicles_ramp_sign_df['Mile Post (ten miles)'].value_counts().values,\n",
    "        width = 10, label = \"Ramp Signs\")\n",
    "\n",
    "bar_max = 1.15*max(no_commercial_vehicles_non_motor_road_sign_df['Mile Post (ten miles)'].value_counts().max(),\n",
    "                no_commercial_vehicles_motor_road_sign_df['Mile Post (ten miles)'].value_counts().max())\n",
    "\n",
    "plt.bar(115, [-bar_max/1.05, bar_max/1.05], width = 30, color = 'gray', alpha = 0.15)\n",
    "plt.bar(290, [-bar_max/1.05, bar_max/1.05], width = 20, color = 'gray', alpha = 0.15)\n",
    "plt.bar(385, [-bar_max/1.05, bar_max/1.05], width = 30, color = 'gray', alpha = 0.15)\n",
    "\n",
    "ax.text(95, bar_max,\n",
    "           'Roanoke, VA\\nMP 100-130', fontsize=15)\n",
    "\n",
    "ax.text(275,bar_max,\n",
    "           ' Boone, NC\\nMP 280-300', fontsize=15)\n",
    "ax.text(365, bar_max,\n",
    "           'Asheville,NC\\nMP 370-400', fontsize=15)\n",
    "ax.vlines([100, 130, 280, 300, 370,400], ymin=-bar_max/1.05, ymax = bar_max/1.05,\n",
    "            linestyles = \"dotted\", linewidth = 2)\n",
    "ax.vlines([220], ymin=-bar_max*1.25, ymax = bar_max*1.5,\n",
    "            linestyles = \"dotted\", linewidth = 5, color = 'black')\n",
    "ax.hlines([0], xmin = 0, xmax = 470,\n",
    "            linestyles = \"solid\", linewidth = 3, color = 'black')\n",
    "ax.text(175, bar_max*1.4, 'Virginia', fontsize=25)\n",
    "ax.text(228, bar_max*1.4, 'North Carolina', fontsize=25)\n",
    "#ax.text(200, bar_max*1.15, 'VA', fontsize=25)\n",
    "#ax.text(225, bar_max*1.15, 'NC', fontsize=25)\n",
    "#ax.bar(ten_mile_markers_for_graph, ten_mile_signs,width = 5,label =\"Stop Signs\")\n",
    "\n",
    "#make graph pretty\n",
    "ax.set_ylim([bar_max*-1.3, bar_max*1.9])\n",
    "ax.set_xlim([0, 460])\n",
    "#ax.set_title(graph_title,fontsize= 35, pad = 20) # title of plot\n",
    "\n",
    "ax.set_xlabel('Milepost (10-mile segments)',fontsize = 30) #xlabel\n",
    "ax.set_ylabel(axis_title, fontsize = 30)#ylabel\n",
    "ax.xaxis.set_major_locator(ticker.MultipleLocator(tick_spacing))\n",
    "ax.tick_params(axis='x', which='major', labelsize=16)\n",
    "ax.tick_params(axis='y', which='major', labelsize=16)\n",
    "ax.tick_params(axis='both', which='minor', labelsize=8)\n",
    "ax.grid('off')\n",
    "ax.legend(fontsize = 20, frameon=True,fancybox = True,shadow=True, handlelength=1.5,framealpha=1, )\n",
    "plt.show()"
   ]
  },
  {
   "cell_type": "code",
   "execution_count": null,
   "metadata": {},
   "outputs": [],
   "source": [
    "timeofday_scotchlite_ref_sign_df"
   ]
  },
  {
   "cell_type": "code",
   "execution_count": 23,
   "metadata": {},
   "outputs": [
    {
     "data": {
      "image/png": "[encoded data removed]",
      "text/plain": [
       "<Figure size 1440x720 with 1 Axes>"
      ]
     },
     "metadata": {},
     "output_type": "display_data"
    }
   ],
   "source": [
    "import matplotlib.pyplot as plt\n",
    "import matplotlib.ticker as ticker\n",
    "graph_title = \"No Commercial Vehicle Sign Locations by Physical Locations on BLRI Parkway\"\n",
    "axis_title = \"Sign Count\"\n",
    "plt.style.use('seaborn')\n",
    "fig, ax = plt.subplots(1,1,figsize=(20,10))\n",
    "tick_spacing = 100\n",
    "\n",
    "\n",
    "plt.bar(sign_df['Mile Post (ten miles)'].value_counts().index-5,\n",
    "        sign_df['Mile Post (ten miles)'].value_counts().values,\n",
    "        width = 10, label = \"Non-Scotchlite Signs\")\n",
    "\n",
    "plt.bar(timeofday_sign_df['Mile Post (ten miles)'].value_counts().index-5,\n",
    "        timeofday_sign_df['Mile Post (ten miles)'].value_counts().values,\n",
    "        width = 10, label = \"Scotchlite Signs\", hatch = \"/\")\n",
    "plt.bar(timeofday_scotchlite_ref_sign_df['Mile Post (ten miles)'].value_counts().index-5,\n",
    "        timeofday_scotchlite_ref_sign_df['Mile Post (ten miles)'].value_counts().values,\n",
    "        width = 10, color = \"peru\", label = \"Scotchlite Reflective Signs\")\n",
    "\n",
    "\n",
    "bar_max = 1.15*max(timeofday_sign_df['Mile Post (ten miles)'].value_counts().max(),\n",
    "                timeofday_scotchlite_ref_sign_df['Mile Post (ten miles)'].value_counts().max())\n",
    "\n",
    "plt.bar(115, [0, bar_max/1.05], width = 30, color = 'gray', alpha = 0.15)\n",
    "plt.bar(290, [0, bar_max/1.05], width = 20, color = 'gray', alpha = 0.15)\n",
    "plt.bar(385, [0, bar_max/1.05], width = 30, color = 'gray', alpha = 0.15)\n",
    "\n",
    "ax.text(95, bar_max,\n",
    "           'Roanoke, VA\\nMP 100-130', fontsize=15)\n",
    "\n",
    "ax.text(275,bar_max,\n",
    "           ' Boone, NC\\nMP 280-300', fontsize=15)\n",
    "ax.text(365, bar_max,\n",
    "           'Asheville,NC\\nMP 370-400', fontsize=15)\n",
    "ax.vlines([100, 130, 280, 300, 370,400], ymin=0, ymax = bar_max/1.05,\n",
    "            linestyles = \"dotted\", linewidth = 2)\n",
    "ax.vlines([220], ymin=0, ymax = bar_max*1.5,\n",
    "            linestyles = \"dotted\", linewidth = 5, color = 'black')\n",
    "ax.hlines([0], xmin = 0, xmax = 460,\n",
    "            linestyles = \"solid\", linewidth = 3, color = 'black')\n",
    "ax.text(175, bar_max*1.4, 'Virginia', fontsize=25)\n",
    "ax.text(228, bar_max*1.4, 'North Carolina', fontsize=25)\n",
    "#ax.text(200, bar_max*1.15, 'VA', fontsize=25)\n",
    "#ax.text(225, bar_max*1.15, 'NC', fontsize=25)\n",
    "#ax.bar(ten_mile_markers_for_graph, ten_mile_signs,width = 5,label =\"Stop Signs\")\n",
    "\n",
    "#make graph pretty\n",
    "ax.set_ylim([0, bar_max*1.9])\n",
    "ax.set_xlim([0, 460])\n",
    "#ax.set_title(graph_title,fontsize= 35, pad = 20) # title of plot\n",
    "\n",
    "ax.set_xlabel('Milepost (10-mile segments)',fontsize = 30) #xlabel\n",
    "ax.set_ylabel(axis_title, fontsize = 30)#ylabel\n",
    "ax.xaxis.set_major_locator(ticker.MultipleLocator(tick_spacing))\n",
    "ax.tick_params(axis='x', which='major', labelsize=16)\n",
    "ax.tick_params(axis='y', which='major', labelsize=16)\n",
    "ax.tick_params(axis='both', which='minor', labelsize=8)\n",
    "ax.grid('off')\n",
    "ax.legend(fontsize = 20, frameon=True,fancybox = True,shadow=True, handlelength=1.5,framealpha=1, )\n",
    "plt.show()"
   ]
  },
  {
   "cell_type": "code",
   "execution_count": null,
   "metadata": {},
   "outputs": [],
   "source": []
  },
  {
   "cell_type": "code",
   "execution_count": null,
   "metadata": {},
   "outputs": [],
   "source": []
  },
  {
   "cell_type": "code",
   "execution_count": 104,
   "metadata": {},
   "outputs": [],
   "source": [
    "df, title, filter_name, folder_name = sign_df,  \"Signs and Crashes\",\"All\", \"All\""
   ]
  },
  {
   "cell_type": "code",
   "execution_count": 105,
   "metadata": {},
   "outputs": [
    {
     "data": {
      "text/plain": [
       "19.5"
      ]
     },
     "execution_count": 105,
     "metadata": {},
     "output_type": "execute_result"
    }
   ],
   "source": [
    "(315-276)/2"
   ]
  },
  {
   "cell_type": "code",
   "execution_count": 106,
   "metadata": {},
   "outputs": [
    {
     "data": {
      "text/plain": [
       "295.5"
      ]
     },
     "execution_count": 106,
     "metadata": {},
     "output_type": "execute_result"
    }
   ],
   "source": [
    "(315+276)/2"
   ]
  },
  {
   "cell_type": "code",
   "execution_count": 107,
   "metadata": {},
   "outputs": [
    {
     "data": {
      "text/plain": [
       "18.4"
      ]
     },
     "execution_count": 107,
     "metadata": {},
     "output_type": "execute_result"
    }
   ],
   "source": [
    "bar_max"
   ]
  },
  {
   "cell_type": "code",
   "execution_count": 108,
   "metadata": {},
   "outputs": [
    {
     "data": {
      "text/plain": [
       "80     165\n",
       "380    161\n",
       "170    155\n",
       "120    152\n",
       "200    151\n",
       "210    149\n",
       "60     136\n",
       "0      135\n",
       "190    134\n",
       "240    129\n",
       "90     117\n",
       "450    117\n",
       "330    117\n",
       "400    115\n",
       "10     107\n",
       "110    106\n",
       "160    104\n",
       "100     97\n",
       "150     94\n",
       "20      89\n",
       "420     87\n",
       "440     86\n",
       "230     86\n",
       "460     84\n",
       "410     82\n",
       "250     82\n",
       "340     81\n",
       "40      80\n",
       "220     80\n",
       "260     77\n",
       "430     73\n",
       "360     68\n",
       "130     66\n",
       "50      65\n",
       "310     63\n",
       "320     62\n",
       "180     59\n",
       "30      58\n",
       "70      57\n",
       "390     57\n",
       "370     49\n",
       "270     41\n",
       "350     39\n",
       "140     35\n",
       "290      1\n",
       "Name: Mile Post (ten miles), dtype: int64"
      ]
     },
     "execution_count": 108,
     "metadata": {},
     "output_type": "execute_result"
    }
   ],
   "source": [
    "sign_df['Mile Post (ten miles)'].value_counts()"
   ]
  },
  {
   "cell_type": "code",
   "execution_count": 109,
   "metadata": {},
   "outputs": [
    {
     "data": {
      "text/plain": [
       "<matplotlib.legend.Legend at 0x23fce156a90>"
      ]
     },
     "execution_count": 109,
     "metadata": {},
     "output_type": "execute_result"
    },
    {
     "data": {
      "image/png": "[encoded data removed]",
      "text/plain": [
       "<Figure size 1440x720 with 1 Axes>"
      ]
     },
     "metadata": {},
     "output_type": "display_data"
    }
   ],
   "source": [
    "import matplotlib.pyplot as plt\n",
    "import matplotlib.ticker as ticker\n",
    "graph_title = filter_name + \" \" + title + \" Locations on BLRI Parkway\"\n",
    "axis_title = title + \" Count\"\n",
    "plt.style.use('seaborn')\n",
    "fig, ax = plt.subplots(1,1,figsize=(20,10))\n",
    "tick_spacing = 50\n",
    "\n",
    "plt.bar(sign_df['Mile Post (ten miles)'].value_counts().index+5, \n",
    "        sign_df['Mile Post (ten miles)'].value_counts().values,\n",
    "        width = 10, label = \"signs\")\n",
    "\n",
    "plt.bar(sign_df['Mile Post (ten miles)'].value_counts().index+5, \n",
    "        -sign_df['Mile Post (ten miles)'].value_counts().values,\n",
    "        width = 10, label = \"crashes\")\n",
    "\n",
    "\n",
    "bar_max = 1.15*max(sign_df['Mile Post (ten miles)'].value_counts().max(),\n",
    "                    sign_df['Mile Post (ten miles)'].value_counts().max())\n",
    "\n",
    "plt.bar(115, [-bar_max/1.05, bar_max/1.05], width = 30, color = 'gray', alpha = 0.15)\n",
    "plt.bar(290, [-bar_max/1.05, bar_max/1.05], width = 20, color = 'gray', alpha = 0.25)\n",
    "plt.bar(385, [-bar_max/1.05, bar_max/1.05], width = 30, color = 'gray', alpha = 0.15)\n",
    "ax.vlines([280, 300], ymin=-bar_max/1.05, ymax = bar_max/1.05,\n",
    "            linestyles = \"dotted\", linewidth = 0.25)\n",
    "\n",
    "plt.bar(295.5, [-bar_max/1.05, bar_max/1.05], width = 39, color = 'salmon', alpha = 0.25)\n",
    "bbox_props = dict(boxstyle=\"round\", fc=\"w\", ec=\"0.5\", alpha=0.9)\n",
    "ax.text(279, bar_max/2,\n",
    "           '  No Data\\n  Collected\\n  MP 276-315', fontsize=13,\n",
    "       bbox=bbox_props)\n",
    "\n",
    "\n",
    "ax.text(95, bar_max,\n",
    "           'Roanoke, VA\\n MP 100-130', fontsize=15)\n",
    "\n",
    "ax.text(275,bar_max,\n",
    "           'Boone, NC\\n MP 280-300', fontsize=15)\n",
    "ax.text(365, bar_max,\n",
    "           'Asheville,NC\\n MP 370-400', fontsize=15)\n",
    "ax.vlines([100, 130, 370,400], ymin=-bar_max/1.05, ymax = bar_max/1.05,\n",
    "            linestyles = \"dotted\", linewidth = 2)\n",
    "ax.vlines([220], ymin=-bar_max*1.2, ymax = bar_max*1.6,\n",
    "            linestyles = \"dotted\", linewidth = 5, color = 'black')\n",
    "ax.text(175, bar_max*1.2, 'Virginia', fontsize=25)\n",
    "ax.text(228, bar_max*1.2, 'North Carolina', fontsize=25)\n",
    "#ax.text(200, bar_max*1.15, 'VA', fontsize=25)\n",
    "#ax.text(225, bar_max*1.15, 'NC', fontsize=25)\n",
    "#ax.bar(ten_mile_markers_for_graph, ten_mile_signs,width = 5,label =\"Stop Signs\")\n",
    "ax.hlines([0], xmin = 0, xmax = 470,\n",
    "            linestyles = \"solid\", linewidth = 3, color = 'black')\n",
    "\n",
    "#make graph pretty\n",
    "ax.set_ylim([-bar_max*1.3, bar_max*1.5])\n",
    "ax.set_xlim([0, 470])\n",
    "ax.set_title(graph_title,fontsize= 35, pad = 20) # title of plot\n",
    "\n",
    "ax.set_xlabel('Milepost (10-mile segments)',fontsize = 30) #xlabel\n",
    "ax.set_ylabel(axis_title, fontsize = 30)#ylabel\n",
    "ax.xaxis.set_major_locator(ticker.MultipleLocator(tick_spacing))\n",
    "ax.tick_params(axis='x', which='major', labelsize=16)\n",
    "ax.tick_params(axis='y', which='major', labelsize=16)\n",
    "ax.tick_params(axis='both', which='minor', labelsize=8)\n",
    "ax.grid('off')\n",
    "ax.legend(fontsize = 20, frameon=True,fancybox = True,shadow=True, handlelength=1.5,framealpha=1, )\n"
   ]
  }
 ],
 "metadata": {
  "kernelspec": {
   "display_name": "Python 3",
   "language": "python",
   "name": "python3"
  },
  "language_info": {
   "codemirror_mode": {
    "name": "ipython",
    "version": 3
   },
   "file_extension": ".py",
   "mimetype": "text/x-python",
   "name": "python",
   "nbconvert_exporter": "python",
   "pygments_lexer": "ipython3",
   "version": "3.7.3"
  }
 },
 "nbformat": 4,
 "nbformat_minor": 2
}
