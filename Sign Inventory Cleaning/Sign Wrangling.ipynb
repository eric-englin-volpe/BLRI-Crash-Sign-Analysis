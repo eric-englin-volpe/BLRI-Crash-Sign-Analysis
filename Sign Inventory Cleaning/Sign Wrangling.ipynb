{
 "cells": [
  {
   "cell_type": "code",
   "execution_count": 1,
   "metadata": {},
   "outputs": [],
   "source": [
    "import os\n",
    "import shutil\n",
    "directory = \"./Sign Inventory/\"\n",
    "from bs4 import BeautifulSoup\n",
    "import pandas as pd\n"
   ]
  },
  {
   "cell_type": "code",
   "execution_count": 2,
   "metadata": {},
   "outputs": [],
   "source": [
    "import_folder_list = []\n",
    "output_folder_list = []\n",
    "\n",
    "for x in os.walk(directory):\n",
    "    if \"Imported Photos\" in x[0]:\n",
    "        import_folder_list.append(x[0])\n",
    "    if \"Output\" in x[0]:\n",
    "        output_folder_list.append(x[0])"
   ]
  },
  {
   "cell_type": "code",
   "execution_count": 3,
   "metadata": {},
   "outputs": [
    {
     "name": "stdout",
     "output_type": "stream",
     "text": [
      "./Sign Inventory/Ipad1 Split 2\\Ipad1 Split 2\\Imported Photos :  371\n",
      "./Sign Inventory/Ipad1 Split1\\Ipad1 Split1\\Imported Photos :  360\n",
      "./Sign Inventory/Ipad2 Split 1\\Ipad2 Split 1\\Imported Photos :  323\n",
      "./Sign Inventory/Ipad2 Split 2\\Ipad2 Split 2\\Imported Photos :  328\n",
      "./Sign Inventory/Ipad2 Split 3\\Ipad2 Split 3\\Imported Photos :  336\n",
      "./Sign Inventory/Ipad2 Split 4\\Ipad2 Split 4\\Imported Photos :  333\n",
      "./Sign Inventory/Ipad2 Split 5\\Ipad2 Split 5\\Imported Photos :  333\n",
      "./Sign Inventory/Ipad2 Split 6\\Ipad2 Split 6\\Imported Photos :  333\n",
      "./Sign Inventory/Ipad2 Split 7\\Ipad2 Split 7\\Imported Photos :  335\n",
      "./Sign Inventory/Ipad3 Split 1\\Ipad3 Split 1\\Imported Photos :  323\n",
      "./Sign Inventory/Ipad3 Split 2\\Ipad3 Split 2\\Imported Photos :  322\n",
      "./Sign Inventory/Ipad3 Split 3\\Ipad3 Split 3\\Imported Photos :  324\n",
      "./Sign Inventory/Ipad3 Split 4\\Ipad3 Split 4\\Imported Photos :  322\n",
      "./Sign Inventory/Ipad3 Split 5\\Ipad3 Split 5\\Imported Photos :  322\n",
      "./Sign Inventory/Ipad4 Split 1\\Ipad4 Split 1\\Imported Photos :  342\n",
      "./Sign Inventory/Ipad4 Split 2\\Ipad4 Split 2\\Imported Photos :  341\n",
      "./Sign Inventory/Ipad4 Split 3\\Ipad4 Split 3\\Imported Photos :  342\n",
      "./Sign Inventory/Ipad4 Split 4\\Ipad4 Split 4\\Imported Photos :  342\n",
      "6032\n"
     ]
    }
   ],
   "source": [
    "from os import listdir\n",
    "from os.path import isfile, join\n",
    "count = 0\n",
    "for x in import_folder_list:\n",
    "    mypath = x\n",
    "    importfiles = [f for f in listdir(mypath) if isfile(join(mypath, f))]\n",
    "    print(x, \": \", len(importfiles))\n",
    "    count+= len(importfiles)\n",
    "\n",
    "print(count)"
   ]
  },
  {
   "cell_type": "code",
   "execution_count": 17,
   "metadata": {},
   "outputs": [],
   "source": [
    "#load in previous work\n",
    "df = pd.read_csv(\"signs_with_mileposts_and_text.csv\")"
   ]
  },
  {
   "cell_type": "code",
   "execution_count": 18,
   "metadata": {},
   "outputs": [
    {
     "data": {
      "text/html": [
       "<div>\n",
       "<style scoped>\n",
       "    .dataframe tbody tr th:only-of-type {\n",
       "        vertical-align: middle;\n",
       "    }\n",
       "\n",
       "    .dataframe tbody tr th {\n",
       "        vertical-align: top;\n",
       "    }\n",
       "\n",
       "    .dataframe thead th {\n",
       "        text-align: right;\n",
       "    }\n",
       "</style>\n",
       "<table border=\"1\" class=\"dataframe\">\n",
       "  <thead>\n",
       "    <tr style=\"text-align: right;\">\n",
       "      <th></th>\n",
       "      <th>index</th>\n",
       "      <th>Image File Name</th>\n",
       "      <th>LON</th>\n",
       "      <th>LAT</th>\n",
       "      <th>Sign Type</th>\n",
       "      <th>Multiple Signs</th>\n",
       "      <th>Sign Owner</th>\n",
       "      <th>Physical Location</th>\n",
       "      <th>Parkway Location</th>\n",
       "      <th>District</th>\n",
       "      <th>...</th>\n",
       "      <th>Sign Material</th>\n",
       "      <th>Sign Face</th>\n",
       "      <th>Post Material</th>\n",
       "      <th>Post Size</th>\n",
       "      <th>Number of posts</th>\n",
       "      <th>kml</th>\n",
       "      <th>folder</th>\n",
       "      <th>Sign Type Grouped</th>\n",
       "      <th>geometry</th>\n",
       "      <th>raw text</th>\n",
       "    </tr>\n",
       "  </thead>\n",
       "  <tbody>\n",
       "    <tr>\n",
       "      <th>0</th>\n",
       "      <td>0</td>\n",
       "      <td>IMG_0366.JPG</td>\n",
       "      <td>-80.788025</td>\n",
       "      <td>36.606993</td>\n",
       "      <td>Informational</td>\n",
       "      <td>No</td>\n",
       "      <td>NPS</td>\n",
       "      <td>State Road</td>\n",
       "      <td>PWL</td>\n",
       "      <td>Plateau Milepost (106-216.7)</td>\n",
       "      <td>...</td>\n",
       "      <td>Carsonite</td>\n",
       "      <td>Printed</td>\n",
       "      <td>Other (Carsonite)</td>\n",
       "      <td>Other (Flat)</td>\n",
       "      <td>1</td>\n",
       "      <td>Ipad1 Split 2.kml</td>\n",
       "      <td>Ipad1 Split 2</td>\n",
       "      <td>Informational</td>\n",
       "      <td>POINT (-80.78802488029351 36.6069934567043)</td>\n",
       "      <td>US\\nNAS\\n</td>\n",
       "    </tr>\n",
       "    <tr>\n",
       "      <th>1</th>\n",
       "      <td>1</td>\n",
       "      <td>IMG_0367.JPG</td>\n",
       "      <td>-80.785947</td>\n",
       "      <td>36.606735</td>\n",
       "      <td>Directional</td>\n",
       "      <td>Yes</td>\n",
       "      <td>Non NPS (usually found on public roads)</td>\n",
       "      <td>State Road</td>\n",
       "      <td>PWL</td>\n",
       "      <td>Plateau Milepost (106-216.7)</td>\n",
       "      <td>...</td>\n",
       "      <td>Aluminum</td>\n",
       "      <td>Scotchlite Reflective</td>\n",
       "      <td>Wood</td>\n",
       "      <td>4x4</td>\n",
       "      <td>1</td>\n",
       "      <td>Ipad1 Split 2.kml</td>\n",
       "      <td>Ipad1 Split 2</td>\n",
       "      <td>Directional</td>\n",
       "      <td>POINT (-80.7859473460358 36.6067353439086)</td>\n",
       "      <td>FURRY FOX TN\\nMOORE\\n114\\n</td>\n",
       "    </tr>\n",
       "    <tr>\n",
       "      <th>2</th>\n",
       "      <td>2</td>\n",
       "      <td>IMG_0368.JPG</td>\n",
       "      <td>-80.787104</td>\n",
       "      <td>36.607143</td>\n",
       "      <td>Directional</td>\n",
       "      <td>Yes</td>\n",
       "      <td>Non NPS (usually found on public roads)</td>\n",
       "      <td>State Road</td>\n",
       "      <td>PWL</td>\n",
       "      <td>Plateau Milepost (106-216.7)</td>\n",
       "      <td>...</td>\n",
       "      <td>Aluminum</td>\n",
       "      <td>Scotchlite Reflective</td>\n",
       "      <td>Wood</td>\n",
       "      <td>4x4</td>\n",
       "      <td>1</td>\n",
       "      <td>Ipad1 Split 2.kml</td>\n",
       "      <td>Ipad1 Split 2</td>\n",
       "      <td>Directional</td>\n",
       "      <td>POINT (-80.7871042798228 36.6071432490034)</td>\n",
       "      <td>FURRY FOX D\\n</td>\n",
       "    </tr>\n",
       "    <tr>\n",
       "      <th>3</th>\n",
       "      <td>3</td>\n",
       "      <td>IMG_0369.JPG</td>\n",
       "      <td>-80.779468</td>\n",
       "      <td>36.614135</td>\n",
       "      <td>Regulatory</td>\n",
       "      <td>Yes</td>\n",
       "      <td>NPS</td>\n",
       "      <td>Motor Road</td>\n",
       "      <td>PWL</td>\n",
       "      <td>Plateau Milepost (106-216.7)</td>\n",
       "      <td>...</td>\n",
       "      <td>Aluminum</td>\n",
       "      <td>Scotchlite Reflective</td>\n",
       "      <td>Metal</td>\n",
       "      <td>2x2</td>\n",
       "      <td>1</td>\n",
       "      <td>Ipad1 Split 2.kml</td>\n",
       "      <td>Ipad1 Split 2</td>\n",
       "      <td>Regulatory</td>\n",
       "      <td>POINT (-80.77946785271121 36.6141347380776)</td>\n",
       "      <td>STOP\\nNO\\nCOMMERCIAL\\nVEHICLES\\n</td>\n",
       "    </tr>\n",
       "    <tr>\n",
       "      <th>4</th>\n",
       "      <td>4</td>\n",
       "      <td>IMG_0370.JPG</td>\n",
       "      <td>-80.780113</td>\n",
       "      <td>36.614600</td>\n",
       "      <td>Regulatory</td>\n",
       "      <td>Yes</td>\n",
       "      <td>NPS</td>\n",
       "      <td>Motor Road</td>\n",
       "      <td>PWL</td>\n",
       "      <td>Plateau Milepost (106-216.7)</td>\n",
       "      <td>...</td>\n",
       "      <td>Aluminum</td>\n",
       "      <td>Scotchlite Reflective</td>\n",
       "      <td>Metal</td>\n",
       "      <td>2x2</td>\n",
       "      <td>1</td>\n",
       "      <td>Ipad1 Split 2.kml</td>\n",
       "      <td>Ipad1 Split 2</td>\n",
       "      <td>Regulatory</td>\n",
       "      <td>POINT (-80.78011337401691 36.614600142952)</td>\n",
       "      <td>MTCARROLLRD\\n</td>\n",
       "    </tr>\n",
       "  </tbody>\n",
       "</table>\n",
       "<p>5 rows × 22 columns</p>\n",
       "</div>"
      ],
      "text/plain": [
       "   index Image File Name        LON        LAT      Sign Type Multiple Signs  \\\n",
       "0      0    IMG_0366.JPG -80.788025  36.606993  Informational             No   \n",
       "1      1    IMG_0367.JPG -80.785947  36.606735    Directional            Yes   \n",
       "2      2    IMG_0368.JPG -80.787104  36.607143    Directional            Yes   \n",
       "3      3    IMG_0369.JPG -80.779468  36.614135     Regulatory            Yes   \n",
       "4      4    IMG_0370.JPG -80.780113  36.614600     Regulatory            Yes   \n",
       "\n",
       "                                Sign Owner Physical Location Parkway Location  \\\n",
       "0                                      NPS        State Road              PWL   \n",
       "1  Non NPS (usually found on public roads)        State Road              PWL   \n",
       "2  Non NPS (usually found on public roads)        State Road              PWL   \n",
       "3                                      NPS        Motor Road              PWL   \n",
       "4                                      NPS        Motor Road              PWL   \n",
       "\n",
       "                       District  ... Sign Material              Sign Face  \\\n",
       "0  Plateau Milepost (106-216.7)  ...     Carsonite                Printed   \n",
       "1  Plateau Milepost (106-216.7)  ...      Aluminum  Scotchlite Reflective   \n",
       "2  Plateau Milepost (106-216.7)  ...      Aluminum  Scotchlite Reflective   \n",
       "3  Plateau Milepost (106-216.7)  ...      Aluminum  Scotchlite Reflective   \n",
       "4  Plateau Milepost (106-216.7)  ...      Aluminum  Scotchlite Reflective   \n",
       "\n",
       "       Post Material     Post Size Number of posts                kml  \\\n",
       "0  Other (Carsonite)  Other (Flat)               1  Ipad1 Split 2.kml   \n",
       "1               Wood           4x4               1  Ipad1 Split 2.kml   \n",
       "2               Wood           4x4               1  Ipad1 Split 2.kml   \n",
       "3              Metal           2x2               1  Ipad1 Split 2.kml   \n",
       "4              Metal           2x2               1  Ipad1 Split 2.kml   \n",
       "\n",
       "          folder Sign Type Grouped  \\\n",
       "0  Ipad1 Split 2     Informational   \n",
       "1  Ipad1 Split 2       Directional   \n",
       "2  Ipad1 Split 2       Directional   \n",
       "3  Ipad1 Split 2        Regulatory   \n",
       "4  Ipad1 Split 2        Regulatory   \n",
       "\n",
       "                                      geometry  \\\n",
       "0  POINT (-80.78802488029351 36.6069934567043)   \n",
       "1   POINT (-80.7859473460358 36.6067353439086)   \n",
       "2   POINT (-80.7871042798228 36.6071432490034)   \n",
       "3  POINT (-80.77946785271121 36.6141347380776)   \n",
       "4   POINT (-80.78011337401691 36.614600142952)   \n",
       "\n",
       "                           raw text  \n",
       "0                         US\\nNAS\\n  \n",
       "1        FURRY FOX TN\\nMOORE\\n114\\n  \n",
       "2                     FURRY FOX D\\n  \n",
       "3  STOP\\nNO\\nCOMMERCIAL\\nVEHICLES\\n  \n",
       "4                     MTCARROLLRD\\n  \n",
       "\n",
       "[5 rows x 22 columns]"
      ]
     },
     "execution_count": 18,
     "metadata": {},
     "output_type": "execute_result"
    }
   ],
   "source": [
    "df.head()"
   ]
  },
  {
   "cell_type": "markdown",
   "metadata": {},
   "source": [
    "## Create new folders for general categories of signs"
   ]
  },
  {
   "cell_type": "code",
   "execution_count": 110,
   "metadata": {},
   "outputs": [],
   "source": [
    "df['New Folder Location']=\"\""
   ]
  },
  {
   "cell_type": "code",
   "execution_count": 111,
   "metadata": {},
   "outputs": [],
   "source": [
    "#starting with 3 from original subtypes\n",
    "df.loc[(df['Sign Type']=='Overlook') & (df['New Folder Location']==\"\"),'New Folder Location' ]=\"Overlook\"\n",
    "df.loc[(df['Sign Type']=='Overlook Ahead') & (df['New Folder Location']==\"\"),'New Folder Location' ]=\"Overlook Ahead\"\n",
    "df.loc[(df['Sign Type']=='Mile Post') & (df['New Folder Location']==\"\"),'New Folder Location' ]=\"Mile Post\"\n",
    "\n",
    "#Ahead\n",
    "df.loc[(df['raw text'].str.contains(\"Ahead\", na=False, case=False))& (df['New Folder Location']==\"\"),'New Folder Location' ]=\"Ahead\"\n",
    "\n",
    "#Stop & Yield\n",
    "df.loc[(df['raw text'].str.contains(\"STOP\", na=False, case=False))& (df['New Folder Location']==\"\"),'New Folder Location' ]=\"STOP\"\n",
    "df.loc[(df['raw text'].str.contains(\"YIELD\", na=False, case=False))& (df['New Folder Location']==\"\"),'New Folder Location' ]=\"YIELD\"\n",
    "\n",
    "#Exclusion signs\n",
    "df.loc[(df['raw text'].str.contains('no', case=False))& (df['New Folder Location']==\"\"),'New Folder Location' ]=\"Exclusion\"\n",
    "df.loc[(df['raw text'].str.contains('only', case=False))& (df['New Folder Location']==\"\"),'New Folder Location' ]=\"Exclusion\"\n",
    "df.loc[(df['raw text'].str.contains('closed', case=False))& (df['New Folder Location']==\"\"),'New Folder Location' ]=\"Exclusion\"\n",
    "\n",
    "#Speed limit signs, need to be multiple because can split lines on SPEED LIMIT\n",
    "df.loc[(df['raw text'].str.contains('speed', case=False))& (df['New Folder Location']==\"\"),'New Folder Location' ]=\"Speed Limit\"\n",
    "df.loc[(df['raw text'].str.contains('limit', case=False))& (df['New Folder Location']==\"\"),'New Folder Location' ]=\"Speed Limit\"\n",
    "df.loc[(df['raw text'].str.contains('m.p.h.', case=False))& (df['New Folder Location']==\"\"),'New Folder Location' ]=\"Speed Limit\"\n",
    "\n",
    "#Weather\n",
    "df.loc[(df['raw text'].str.contains('ice', case=False))& (df['New Folder Location']==\"\"),'New Folder Location' ]=\"Weather\"\n",
    "df.loc[(df['raw text'].str.contains('icing ', case=False))& (df['New Folder Location']==\"\"),'New Folder Location' ]=\"Weather\"\n",
    "df.loc[(df['raw text'].str.contains('fog', case=False))& (df['New Folder Location']==\"\"),'New Folder Location' ]=\"Weather\"\n",
    "df.loc[(df['raw text'].str.contains('snow', case=False))& (df['New Folder Location']==\"\"),'New Folder Location' ]=\"Weather\"\n",
    "df.loc[(df['raw text'].str.contains('flood', case=False))& (df['New Folder Location']==\"\"),'New Folder Location' ]=\"Weather\"\n",
    "\n",
    "df.loc[(df['raw text'].isnull())& (df['New Folder Location']==\"\"),'New Folder Location' ]=\"No Text\"\n",
    "\n",
    "#Long Text signs\n",
    "df.loc[(df['raw text'].str.len()>50)& (df['New Folder Location']==\"\"),'New Folder Location' ]=\"Long Text\"\n",
    "\n",
    "#Short Text signs\n",
    "df.loc[(df['raw text'].str.len()<5)& (df['New Folder Location']==\"\"),'New Folder Location' ]=\"Short Text\"\n",
    "\n",
    "#Rest\n",
    "df.loc[df['New Folder Location']==\"\",'New Folder Location' ]=\"Other\""
   ]
  },
  {
   "cell_type": "code",
   "execution_count": 112,
   "metadata": {},
   "outputs": [
    {
     "data": {
      "text/plain": [
       "Other             1340\n",
       "No Text            885\n",
       "Exclusion          825\n",
       "Mile Post          707\n",
       "Overlook Ahead     505\n",
       "STOP               488\n",
       "Overlook           271\n",
       "Long Text          242\n",
       "Speed Limit        185\n",
       "Short Text         185\n",
       "Ahead              160\n",
       "Weather            155\n",
       "YIELD               84\n",
       "Name: New Folder Location, dtype: int64"
      ]
     },
     "execution_count": 112,
     "metadata": {},
     "output_type": "execute_result"
    }
   ],
   "source": [
    "df['New Folder Location'].value_counts()"
   ]
  },
  {
   "cell_type": "code",
   "execution_count": 103,
   "metadata": {},
   "outputs": [],
   "source": [
    "df.to_csv(\"temp_df.csv\",index=False)"
   ]
  },
  {
   "cell_type": "code",
   "execution_count": 104,
   "metadata": {},
   "outputs": [],
   "source": [
    "def put_files_into_folder(map_df, folder, sign_type):\n",
    "    from pathlib import Path\n",
    "    for x in map_df.index:\n",
    "        dest_folder = r\"./Sign Inventory by New Subtype/\" + str(folder)\n",
    "        if map_df['New Folder Location'][x]==sign_type:\n",
    "            save_file = \"./Sign Inventory/\" + str(map_df['folder'][x]) + \"/\" + str(map_df['folder'][x]) + \"/Imported Photos/\"+ str(map_df['Image File Name'][x])\n",
    "            my_file = Path(save_file)\n",
    "#            if my_file.is_file():\n",
    "#                print(save_file) #qc'ing\n",
    "#                continue\n",
    "            shutil.copy(save_file, dest_folder)\n",
    "            final_save_file  =  dest_folder + \"/\" +str(map_df['folder'][x])+\"_\"+str(map_df['Image File Name'][x])\n",
    "            initial_name_file =  dest_folder + \"/\" + str(map_df['Image File Name'][x])\n",
    "            shutil.move(initial_name_file, final_save_file)\n",
    "    print(\"All \" + str(sign_type) + \" signs added to \" + str(folder) + \" folder\")"
   ]
  },
  {
   "cell_type": "code",
   "execution_count": 106,
   "metadata": {},
   "outputs": [
    {
     "name": "stdout",
     "output_type": "stream",
     "text": [
      "All Ahead signs added to Ahead folder\n"
     ]
    }
   ],
   "source": [
    "#testing out function \n",
    "put_files_into_folder(df, \"Ahead\",  \"Ahead\")\n"
   ]
  },
  {
   "cell_type": "code",
   "execution_count": 109,
   "metadata": {},
   "outputs": [
    {
     "name": "stdout",
     "output_type": "stream",
     "text": [
      "All Information signs added to Long Text folder\n",
      "All Speed Limit signs added to Speed Limit folder\n"
     ]
    }
   ],
   "source": [
    "#put_files_into_folder(map_df, \"Ahead\",  \"Ahead\")\n",
    "#put_files_into_folder(df, \"Exclusion\",  \"Exclusion\")\n",
    "put_files_into_folder(df, \"Long Text\",  \"Long Text\")\n",
    "#put_files_into_folder(df, \"Mile Post\",  \"Mile Post\")\n",
    "#put_files_into_folder(df, \"No Text\",  \"No Text\")\n",
    "#put_files_into_folder(df, \"Other\",  \"Other\")\n",
    "#put_files_into_folder(df, \"Overlook\",  \"Overlook\")\n",
    "#put_files_into_folder(df, \"Overlook Ahead\",  \"Overlook Ahead\")\n",
    "#put_files_into_folder(df, \"PASS\",  \"PASS\")\n",
    "#put_files_into_folder(df, \"Short Text\",  \"Short Text\")\n",
    "put_files_into_folder(df, \"Speed Limit\",  \"Speed Limit\")\n",
    "#put_files_into_folder(df, \"STOP\",  \"STOP\")\n",
    "#put_files_into_folder(df, \"Weather\",  \"Weather\")\n",
    "#put_files_into_folder(df, \"YIELD\",  \"YIELD\")\n"
   ]
  },
  {
   "cell_type": "code",
   "execution_count": null,
   "metadata": {},
   "outputs": [],
   "source": []
  },
  {
   "cell_type": "code",
   "execution_count": null,
   "metadata": {},
   "outputs": [],
   "source": []
  },
  {
   "cell_type": "code",
   "execution_count": null,
   "metadata": {},
   "outputs": [],
   "source": []
  },
  {
   "cell_type": "code",
   "execution_count": null,
   "metadata": {},
   "outputs": [],
   "source": []
  },
  {
   "cell_type": "code",
   "execution_count": null,
   "metadata": {},
   "outputs": [],
   "source": []
  },
  {
   "cell_type": "code",
   "execution_count": null,
   "metadata": {},
   "outputs": [],
   "source": []
  }
 ],
 "metadata": {
  "kernelspec": {
   "display_name": "Python 3",
   "language": "python",
   "name": "python3"
  },
  "language_info": {
   "codemirror_mode": {
    "name": "ipython",
    "version": 3
   },
   "file_extension": ".py",
   "mimetype": "text/x-python",
   "name": "python",
   "nbconvert_exporter": "python",
   "pygments_lexer": "ipython3",
   "version": "3.7.3"
  }
 },
 "nbformat": 4,
 "nbformat_minor": 2
}
